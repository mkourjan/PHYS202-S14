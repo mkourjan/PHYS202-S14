{
 "metadata": {
  "name": "",
  "signature": "sha256:b473cbb1489fdca63a7f84caca5960896538a809c9331d89e6aedba6efda32ed"
 },
 "nbformat": 3,
 "nbformat_minor": 0,
 "worksheets": [
  {
   "cells": [
    {
     "cell_type": "heading",
     "level": 1,
     "metadata": {},
     "source": [
      "NumPyExercises"
     ]
    },
    {
     "cell_type": "code",
     "collapsed": false,
     "input": [
      "%pylab inline\n",
      "import numpy as np"
     ],
     "language": "python",
     "metadata": {},
     "outputs": [
      {
       "output_type": "stream",
       "stream": "stdout",
       "text": [
        "Populating the interactive namespace from numpy and matplotlib\n"
       ]
      }
     ],
     "prompt_number": 2
    },
    {
     "cell_type": "markdown",
     "metadata": {},
     "source": [
      "1. Create the following arrays with correct data types:\n",
      "```\n",
      "[[1, 1, 1, 1],\n",
      " [1, 1, 1, 1],\n",
      " [1, 1, 1, 2],\n",
      " [1, 6, 1, 1]]\n",
      "[[0., 0., 0., 0., 0.],\n",
      " [2., 0., 0., 0., 0.],\n",
      " [0., 3., 0., 0., 0.],\n",
      " [0., 0., 4., 0., 0.],\n",
      " [0., 0., 0., 5., 0.],\n",
      " [0., 0., 0., 0., 6.]]\n",
      "```\n",
      "You should be able to accomplish this in 3 lines of code or less for each one. The documentation for the diag method may be helpful."
     ]
    },
    {
     "cell_type": "code",
     "collapsed": false,
     "input": [
      "c = np.zeros((1,5))\n",
      "d = np.diag(np.linspace(2,6,5))\n",
      "\n",
      "d\n",
      "e = vstack((c,d))\n",
      "print e"
     ],
     "language": "python",
     "metadata": {},
     "outputs": [
      {
       "output_type": "stream",
       "stream": "stdout",
       "text": [
        "[[ 0.  0.  0.  0.  0.]\n",
        " [ 2.  0.  0.  0.  0.]\n",
        " [ 0.  3.  0.  0.  0.]\n",
        " [ 0.  0.  4.  0.  0.]\n",
        " [ 0.  0.  0.  5.  0.]\n",
        " [ 0.  0.  0.  0.  6.]]\n"
       ]
      }
     ],
     "prompt_number": 3
    },
    {
     "cell_type": "markdown",
     "metadata": {},
     "source": [
      "I created a diagonal matrix of increasing values from 2 to 6 that had 5 by 5 dimensions.  Than I used the stack function to stack an array of 5 zeros on top of my diagonal matrix."
     ]
    },
    {
     "cell_type": "code",
     "collapsed": false,
     "input": [
      "a = [1,1,1,1]\n",
      "b = [1,1,1,1]\n",
      "c = [1,1,1,2]\n",
      "d = [1,6,1,1]\n",
      "e = vstack((a,b,c,d))\n",
      "print e"
     ],
     "language": "python",
     "metadata": {},
     "outputs": [
      {
       "output_type": "stream",
       "stream": "stdout",
       "text": [
        "[[1 1 1 1]\n",
        " [1 1 1 1]\n",
        " [1 1 1 2]\n",
        " [1 6 1 1]]\n"
       ]
      }
     ],
     "prompt_number": 5
    },
    {
     "cell_type": "markdown",
     "metadata": {},
     "source": [
      "I used the stack function to stack 4 arrays with the length of 4 on top of each other."
     ]
    },
    {
     "cell_type": "markdown",
     "metadata": {},
     "source": [
      "``\n",
      "2. Read the documentation for np.tile and use this function to construct the following array:\n",
      "``\n",
      "``\n",
      "[[4, 3, 4, 3, 4, 3],\n",
      " [2, 1, 2, 1, 2, 1],\n",
      " [4, 3, 4, 3, 4, 3],\n",
      " [2, 1, 2, 1, 2, 1]]\n",
      "``"
     ]
    },
    {
     "cell_type": "code",
     "collapsed": false,
     "input": [
      "a = np.array([[4,3,4,3,4,3],[2,1,2,1,2,1]])\n",
      "np.tile (a, (2, 1))"
     ],
     "language": "python",
     "metadata": {},
     "outputs": [
      {
       "metadata": {},
       "output_type": "pyout",
       "prompt_number": 6,
       "text": [
        "array([[4, 3, 4, 3, 4, 3],\n",
        "       [2, 1, 2, 1, 2, 1],\n",
        "       [4, 3, 4, 3, 4, 3],\n",
        "       [2, 1, 2, 1, 2, 1]])"
       ]
      }
     ],
     "prompt_number": 6
    },
    {
     "cell_type": "markdown",
     "metadata": {},
     "source": [
      "the np.tile function creates an alternating effect.  I used this function to alternate between 434343 and 212121 two times."
     ]
    },
    {
     "cell_type": "markdown",
     "metadata": {},
     "source": [
      "3. Let\u2019s create a prime number sieve. We will use the sieve to see what numbers between 0 and 100 are prime.\n",
      "\n",
      "(a) First, construct an array of booleans called is prime with shape (100,), filled with True in all the elements.\n",
      "is_prime = np.ones((100,), dtype=bool)\n",
      "\n",
      "(b) The index of each boolean element represents the number. \u201cCross out\u201d 0 and 1, which are not primes. You can either set them to False or 0 (which python recognizes as equivalent to False for boolean types).\n",
      "\n",
      "(c) For each subsequent integer j starting from 2, cross out its higher multiples:\n",
      "N_max = int(np.sqrt(len(is_prime)))\n",
      "for j in range(2, N_max):\n",
      "    is_prime[2*j::j] = False\n",
      "    \n",
      "(d) Look up the documentation for np.nonzero (try help(np.nonzero) or np.nonzero?) and use it to print the prime numbers.\n",
      "\n",
      "\n"
     ]
    },
    {
     "cell_type": "code",
     "collapsed": false,
     "input": [
      "is_prime = np.ones((100,), dtype = bool)\n",
      "is_prime[0] = False\n",
      "is_prime[1] = False\n",
      "N_max = int(np.sqrt(len(is_prime)))\n",
      "for j in range(2, N_max):\n",
      "    is_prime[2*j::j] = False\n",
      "print np.nonzero(is_prime)\n",
      "\n"
     ],
     "language": "python",
     "metadata": {},
     "outputs": [
      {
       "output_type": "stream",
       "stream": "stdout",
       "text": [
        "(array([ 2,  3,  5,  7, 11, 13, 17, 19, 23, 29, 31, 37, 41, 43, 47, 53, 59,\n",
        "       61, 67, 71, 73, 79, 83, 89, 97], dtype=int64),)\n"
       ]
      }
     ],
     "prompt_number": 10
    },
    {
     "cell_type": "markdown",
     "metadata": {},
     "source": [
      "I created code that filters out prime numbers! The way it works is that my considers numbers between 0 and 100 a boolean, or True or False.  I made my first two numbers false, since those are technically discounted from our prime number list despite following the same prime number rules.  Than I tested to see if the number was divisible by something.  If it was, than I made sure to call it False so it wouldn't show up!"
     ]
    },
    {
     "cell_type": "markdown",
     "metadata": {},
     "source": [
      "(e) Finally, create a new function, called eratosthenes_sieve() that takes one argument, maximum, the maximum number to test for primes, and returns an array containing the prime numbers between 2 and maximum. Use the sieve algorithm developed by Eratosthenes and described on wikipedia. Print the result for the test cases where maximum = 10 and 100. (Prime numbers and prime factorization are common topics in the Project Euler exercises.)"
     ]
    },
    {
     "cell_type": "markdown",
     "metadata": {},
     "source": [
      "4. Let\u2019s do some manipulations on NumPy arrays by starting with a stock image provided in SciPy. It turns out that digital images are just arrays of numbers representing the relative intensity (for B/W images) or RGB values (for color images) of the pixels in the image, similar to ipythonblocks. We can use the array operations we have learned to do digital image processing!\n",
      "\n",
      "(a) Import the SciPy stock image into an array (since it is coming from SciPy, it is a NumPy array):\n",
      "from scipy import misc\n",
      "lena = misc.lena()\n",
      "\n",
      "(b) Try viewing the image in both false color and grayscale:\n",
      "\n",
      "(c) Let\u2019s crop the image by removing 30 pixels on all sides:\n",
      "crop_lena = lena[30:-30,30:-30]\n",
      "imshow(crop_lena)\n",
      "\n",
      "(d) Next, let\u2019s make a frame by blacking out all pixels except those in a circle centered on the face. We can do this with a mask. The equation for a circle is just x2+y2=R2. If we want it centered on the middle of the image at (256,256) we can create a mask with\n",
      "y, x = np.ogrid[0:512,0:512]\n",
      "centerx, centery = (256, 256)\n",
      "mask = ((y - centery)**2 + (x - centerx)**2) > 230**2\n",
      "To black out the desired pixels, we just set them equal to 0 or False:\n",
      "lena[mask] = 0\n",
      "imshow(lena)\n",
      "\n",
      "\n"
     ]
    },
    {
     "cell_type": "code",
     "collapsed": false,
     "input": [
      "from scipy import misc\n",
      "lena = misc.lena()\n",
      "imshow(lena)\n",
      "imshow(lena, cmap=cm.gray)\n",
      "crop_lena = lena[30:-30,30:-30]\n",
      "imshow(crop_lena)\n",
      "y, x = np.ogrid[0:512,0:512]\n",
      "centerx, centery = (256, 256)\n",
      "mask = ((y - centery)**2 + (x - centerx)**2) > 230**2\n",
      "lena[mask] = 0\n",
      "imshow(lena)"
     ],
     "language": "python",
     "metadata": {},
     "outputs": []
    },
    {
     "cell_type": "markdown",
     "metadata": {},
     "source": [
      "I imported a picture called lena.  Than I cropped the image and put it onto a grid to make it easy to work with.  I created values for where the center should be.  Than I created a mask that makes a dark circle around the face of the image.  It works by blacking out pixels that are above or below certain values that we coded."
     ]
    },
    {
     "cell_type": "markdown",
     "metadata": {},
     "source": [
      "(e) Create a new frame for the image that is an ellipse (long axis on the vertical) centered on the face."
     ]
    },
    {
     "cell_type": "code",
     "collapsed": false,
     "input": [
      "from scipy import misc\n",
      "lena = misc.lena()\n",
      "imshow(lena)\n",
      "imshow(lena, cmap=cm.gray)\n",
      "crop_lena = lena[30:-30,30:-30]\n",
      "imshow(crop_lena)\n",
      "y, x = np.ogrid[0:512,0:512]\n",
      "centerx, centery = (500, 256)\n",
      "mask = ((y - centery)**2 + (2 * x - centerx)**2) > 230**2\n",
      "lena[mask] = 0\n",
      "imshow(lena)"
     ],
     "language": "python",
     "metadata": {},
     "outputs": []
    },
    {
     "cell_type": "markdown",
     "metadata": {},
     "source": [
      "I smooshed my circle around the image in the x direction by multiplying my x data by two. Than I shifted my data to the right to center it nicely around the face."
     ]
    },
    {
     "cell_type": "code",
     "collapsed": false,
     "input": [],
     "language": "python",
     "metadata": {},
     "outputs": []
    }
   ],
   "metadata": {}
  }
 ]
}