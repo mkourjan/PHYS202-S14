{
 "metadata": {
  "name": "",
  "signature": "sha256:bd5b0d49ea68c98625e10c0adc9967fb0822f0a3d45d068ee5efb4f0569d24ec"
 },
 "nbformat": 3,
 "nbformat_minor": 0,
 "worksheets": [
  {
   "cells": [
    {
     "cell_type": "heading",
     "level": 1,
     "metadata": {},
     "source": [
      "Random Numbers and MC Sampling Exercises"
     ]
    },
    {
     "cell_type": "markdown",
     "metadata": {},
     "source": [
      "Question 1\n",
      "\n",
      "The Weibull distribution, with parameters \u03b1>0 and \u03b2>0 is described by the density function\n",
      "\n",
      "f(x)={\u03b1\u03b2\u2212\u03b1x\u03b1\u22121e\u2212(x/\u03b2)\u03b10x>0otherwise\n",
      "\n",
      "(a) Solve for the CDF of the Weibull distribution analytically, using\n",
      "F(x)=\u222bx\u2212\u221ef(t)dt"
     ]
    },
    {
     "cell_type": "code",
     "collapsed": false,
     "input": [
      "%pylab inline\n",
      "import numpy as np\n",
      "import matplotlib.pyplot as plot\n",
      "\n",
      "from IPython.html.widgets import interact, interactive\n",
      "from scipy.integrate import trapz,cumtrapz"
     ],
     "language": "python",
     "metadata": {},
     "outputs": [
      {
       "output_type": "stream",
       "stream": "stdout",
       "text": [
        "Populating the interactive namespace from numpy and matplotlib\n"
       ]
      }
     ],
     "prompt_number": 1
    },
    {
     "cell_type": "markdown",
     "metadata": {},
     "source": [
      "\\begin{equation}\n",
      "F(X) = 1 -  e^{(-x/\\beta) ^ \\alpha}\n",
      "\\end{equation}"
     ]
    },
    {
     "cell_type": "markdown",
     "metadata": {},
     "source": [
      "(b) Find the inverse of the CDF F\u22121(x) analytically."
     ]
    },
    {
     "cell_type": "markdown",
     "metadata": {},
     "source": [
      "\\begin{equation}\n",
      "F^{-1}(X) = -\\beta * {\\log(1-x)}^{1/\\alpha}\n",
      "\\end{equation} "
     ]
    },
    {
     "cell_type": "markdown",
     "metadata": {},
     "source": [
      "(c) Write a program to generate 10,000 samples from the Weibull distribution and plot the true distribution, the CDF and the sampled distribution as a histogram, all on the same graph. Let \u03b1 = 1.5, \u03b2 = 6.\n",
      "Note: Do not use the built-in Weibull function from numpy.random."
     ]
    },
    {
     "cell_type": "code",
     "collapsed": false,
     "input": [
      "Y = lambda x: 1.5 * 6 ** -1.5 * x ** (0.5) * e ** -(x/6)** 1.5\n",
      "y = lambda x: 1 - np.exp(-(x/6.) ** 1.5)\n",
      "X = np.arange(0, 40, .01)\n",
      "\n",
      "#number of samples\n",
      "N = 10000\n",
      "\n",
      "#N random numbers between 0 and 1\n",
      "z = np.random.random_sample(N);\n",
      "\n",
      "#inverse CDF\n",
      "Finv = lambda z: 6. * (-np.log(1 - z)) ** (1./1.5)\n",
      "\n",
      "#sampled x values    \n",
      "xsamples = Finv(z);\n",
      "\n",
      "#how do they compare to the original?\n",
      "plt.hist(xsamples,50,normed=True,label=\"Sampled distribution\")\n",
      "plt.plot(X,y(X),label='Cumulative distribution',lw=3,color='red')\n",
      "plt.plot(X,Y(X), label = 'True Distribution')\n",
      "\n",
      "#plt.xlim(1,25)\n",
      "#plt.ylim(0,20)\n",
      "\n",
      "plt.legend(loc='best')\n",
      "plt.show()\n",
      "\n",
      "print y(X)"
     ],
     "language": "python",
     "metadata": {},
     "outputs": [
      {
       "metadata": {},
       "output_type": "display_data",
       "png": "[encoded data removed]",
       "text": [
        "<matplotlib.figure.Figure at 0x3ef1c88>"
       ]
      },
      {
       "output_type": "stream",
       "stream": "stdout",
       "text": [
        "[  0.00000000e+00   6.80390670e-05   1.92431572e-04 ...,   9.99999966e-01\n",
        "   9.99999966e-01   9.99999966e-01]\n"
       ]
      }
     ],
     "prompt_number": 5
    },
    {
     "cell_type": "markdown",
     "metadata": {},
     "source": [
      "(d) Run the four statistical tests of randomness (mean, variance, chi-square, K-S) on your results from question 1(c). Does it pass all of them?\n"
     ]
    },
    {
     "cell_type": "code",
     "collapsed": false,
     "input": [],
     "language": "python",
     "metadata": {},
     "outputs": [],
     "prompt_number": 2
    },
    {
     "cell_type": "markdown",
     "metadata": {},
     "source": [
      "Question 2\n",
      "\n",
      "The Beta(4,3) distribution has density\n",
      "\n",
      "f(x)={60x3(1\u2212x)200\u2264x\u22641 otherwise\n",
      "\n",
      "The maximum of this distribution is f(0.6)=2.0736 (exactly).\n",
      "\n",
      "(a) Write a program that uses the Rejection Sampling Method to generate a set of 10,000 samples from this distribution and plot the density distribution, the CDF, and a histogram of the sampled distribution on the same graph.\n",
      "Note: Do not use the built-in Beta function from numpy.random."
     ]
    },
    {
     "cell_type": "code",
     "collapsed": false,
     "input": [],
     "language": "python",
     "metadata": {},
     "outputs": [],
     "prompt_number": 2
    },
    {
     "cell_type": "code",
     "collapsed": false,
     "input": [],
     "language": "python",
     "metadata": {},
     "outputs": [],
     "prompt_number": 2
    },
    {
     "cell_type": "code",
     "collapsed": false,
     "input": [],
     "language": "python",
     "metadata": {},
     "outputs": [],
     "prompt_number": 2
    },
    {
     "cell_type": "code",
     "collapsed": false,
     "input": [],
     "language": "python",
     "metadata": {},
     "outputs": [],
     "prompt_number": 2
    },
    {
     "cell_type": "code",
     "collapsed": false,
     "input": [],
     "language": "python",
     "metadata": {},
     "outputs": [],
     "prompt_number": 2
    },
    {
     "cell_type": "code",
     "collapsed": false,
     "input": [],
     "language": "python",
     "metadata": {},
     "outputs": [],
     "prompt_number": 2
    },
    {
     "cell_type": "code",
     "collapsed": false,
     "input": [
      "\n"
     ],
     "language": "python",
     "metadata": {},
     "outputs": [],
     "prompt_number": 2
    },
    {
     "cell_type": "markdown",
     "metadata": {},
     "source": [
      "Question 3 (a) Plot the Woods-Saxon distribution \u03c1(r) and r2\u03c1(r) for gold from r = 0 fm to r = 18 fm."
     ]
    },
    {
     "cell_type": "code",
     "collapsed": false,
     "input": [
      "y = 1 / (1 + exp((r - 6.38) / )"
     ],
     "language": "python",
     "metadata": {},
     "outputs": [
      {
       "ename": "SyntaxError",
       "evalue": "invalid syntax (<ipython-input-3-23237a59c650>, line 1)",
       "output_type": "pyerr",
       "traceback": [
        "\u001b[1;36m  File \u001b[1;32m\"<ipython-input-3-23237a59c650>\"\u001b[1;36m, line \u001b[1;32m1\u001b[0m\n\u001b[1;33m    y = 1 / (1 + exp((r - 6.38) / )\u001b[0m\n\u001b[1;37m                                  ^\u001b[0m\n\u001b[1;31mSyntaxError\u001b[0m\u001b[1;31m:\u001b[0m invalid syntax\n"
       ]
      }
     ],
     "prompt_number": 3
    }
   ],
   "metadata": {}
  }
 ]
}