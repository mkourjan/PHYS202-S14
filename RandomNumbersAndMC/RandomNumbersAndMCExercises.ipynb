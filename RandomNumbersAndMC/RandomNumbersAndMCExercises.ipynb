{
 "metadata": {
  "name": "",
  "signature": "sha256:382887d28055277afd88265e76a05efb90210a42f40e998bb733d55f676bf805"
 },
 "nbformat": 3,
 "nbformat_minor": 0,
 "worksheets": [
  {
   "cells": [
    {
     "cell_type": "heading",
     "level": 1,
     "metadata": {},
     "source": [
      "Random Numbers and MC Sampling Exercises"
     ]
    },
    {
     "cell_type": "markdown",
     "metadata": {},
     "source": [
      "Question 1\n",
      "\n",
      "The Weibull distribution, with parameters \u03b1>0 and \u03b2>0 is described by the density function\n",
      "\n",
      "f(x)={\u03b1\u03b2\u2212\u03b1x\u03b1\u22121e\u2212(x/\u03b2)\u03b10x>0otherwise\n",
      "\n",
      "(a) Solve for the CDF of the Weibull distribution analytically, using\n",
      "F(x)=\u222bx\u2212\u221ef(t)dt"
     ]
    },
    {
     "cell_type": "code",
     "collapsed": false,
     "input": [
      "%pylab inline\n",
      "import numpy as np\n",
      "import matplotlib.pyplot as plot\n",
      "\n",
      "from IPython.html.widgets import interact, interactive\n",
      "from scipy.integrate import trapz,cumtrapz"
     ],
     "language": "python",
     "metadata": {},
     "outputs": [
      {
       "output_type": "stream",
       "stream": "stdout",
       "text": [
        "Populating the interactive namespace from numpy and matplotlib\n"
       ]
      }
     ],
     "prompt_number": 1
    },
    {
     "cell_type": "code",
     "collapsed": false,
     "input": [
      "def CDFviewer(xmax = 0.95):\n",
      "\n",
      "    #Plot the full function first\n",
      "    x = np.arange(0.,np.pi+0.001,0.01)\n",
      "    f = lambda x, y: x * y ** -x\n",
      "    plt.plot(x,f(x),label='True distribution',lw=3)\n",
      "\n",
      "    #Now show the CDF up to the xmax limit\n",
      "    xcdf = np.arange(0.,xmax+0.001,0.01)\n",
      "    F = lambda x: (np.cos(0)-np.cos(x))/2.\n",
      "    plt.plot(xcdf,F(xcdf),label='Cumulative function',lw=3)\n",
      "\n",
      "    plt.plot((xmax,xmax),(0.,f(xmax)),\"b--\")\n",
      "    plt.fill_between(xcdf,0.,f(xcdf),alpha=0.1)\n",
      "    \n",
      "    #Use trapz with the true distribution as a comparison, but only integrate\n",
      "    #up to xmax\n",
      "    total = trapz(f(x),x)\n",
      "    area = trapz(f(xcdf),xcdf)\n",
      "    frac = area/total\n",
      "    \n",
      "    plt.text(2.0,0.6,\"CDF value = %.3f\"%F(xmax),fontsize=12)\n",
      "    plt.text(2.0,0.5,\"Shaded area = %.3f\"%frac,fontsize=12)\n",
      "    \n",
      "    plt.xlim(0,3.5)\n",
      "    plt.ylim(0,1.1)\n",
      "\n",
      "    plt.legend(loc=\"upper left\")\n",
      "    plt.show()\n",
      "\n",
      "\n",
      "v = interact(CDFviewer,xmax=(0.,np.pi,0.01))"
     ],
     "language": "python",
     "metadata": {},
     "outputs": [
      {
       "metadata": {},
       "output_type": "display_data",
       "png": "[encoded data removed]",
       "text": [
        "<matplotlib.figure.Figure at 0xa2678d0>"
       ]
      }
     ],
     "prompt_number": 2
    },
    {
     "cell_type": "markdown",
     "metadata": {},
     "source": [
      "Question 2\n",
      "\n",
      "The Beta(4,3) distribution has density\n",
      "\n",
      "f(x)={60x3(1\u2212x)200\u2264x\u22641 otherwise\n",
      "\n",
      "The maximum of this distribution is f(0.6)=2.0736 (exactly).\n",
      "\n",
      "(a) Write a program that uses the Rejection Sampling Method to generate a set of 10,000 samples from this distribution and plot the density distribution, the CDF, and a histogram of the sampled distribution on the same graph.\n",
      "Note: Do not use the built-in Beta function from numpy.random."
     ]
    },
    {
     "cell_type": "code",
     "collapsed": false,
     "input": [],
     "language": "python",
     "metadata": {},
     "outputs": []
    }
   ],
   "metadata": {}
  }
 ]
}