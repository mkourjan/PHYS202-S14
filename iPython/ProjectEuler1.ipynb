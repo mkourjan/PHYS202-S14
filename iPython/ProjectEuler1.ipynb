{
 "metadata": {
  "name": "",
  "signature": "sha256:a55b00f304dcaddd9a98399fdacfc2e6a453167ec7d1599384463f70176eed0c"
 },
 "nbformat": 3,
 "nbformat_minor": 0,
 "worksheets": [
  {
   "cells": [
    {
     "cell_type": "heading",
     "level": 1,
     "metadata": {},
     "source": [
      "Multiples of 3 and 5"
     ]
    },
    {
     "cell_type": "heading",
     "level": 4,
     "metadata": {},
     "source": [
      "Problem 1"
     ]
    },
    {
     "cell_type": "markdown",
     "metadata": {},
     "source": [
      "If we list all the natural numbers below 10 that are multiples of 3 or 5, we get 3, 5, 6 and 9. The sum of these multiples is 23.\n",
      "\n",
      "Find the sum of all the multiples of 3 or 5 below 1000."
     ]
    },
    {
     "cell_type": "markdown",
     "metadata": {},
     "source": [
      "Driver = Masha; Navigator = John"
     ]
    },
    {
     "cell_type": "code",
     "collapsed": false,
     "input": [
      "sum3 = 0\n",
      "sum5 = 0\n",
      "\n",
      "for x in range(0, 1001):\n",
      "    if x % 3 == 0:\n",
      "        \n",
      "        sum3 += x\n",
      "    elif x % 5 == 0: \n",
      "        \n",
      "        sum5 += x\n",
      "        \n",
      "print sum3\n",
      "print sum5\n",
      "        "
     ],
     "language": "python",
     "metadata": {},
     "outputs": [
      {
       "output_type": "stream",
       "stream": "stdout",
       "text": [
        "166833\n",
        "67335\n"
       ]
      }
     ],
     "prompt_number": 7
    },
    {
     "cell_type": "code",
     "collapsed": false,
     "input": [],
     "language": "python",
     "metadata": {},
     "outputs": []
    }
   ],
   "metadata": {}
  }
 ]
}