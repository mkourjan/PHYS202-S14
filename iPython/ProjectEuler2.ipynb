{
 "metadata": {
  "name": "",
  "signature": "sha256:9aa84d38d4e2a5c1bd8b213944b27d8abeeb000b8897667d9303cd236b69fc57"
 },
 "nbformat": 3,
 "nbformat_minor": 0,
 "worksheets": [
  {
   "cells": [
    {
     "cell_type": "code",
     "collapsed": false,
     "input": [
      "x = 1\n",
      "y = 2\n",
      "z = 0\n",
      "\n",
      "while y <= 4000000:\n",
      "    \n",
      "    if y % 2 == 0:\n",
      "        z += y\n",
      "    x = y\n",
      "    y = x + y\n",
      "    \n",
      "print z\n",
      "       "
     ],
     "language": "python",
     "metadata": {},
     "outputs": []
    },
    {
     "cell_type": "code",
     "collapsed": false,
     "input": [],
     "language": "python",
     "metadata": {},
     "outputs": []
    },
    {
     "cell_type": "code",
     "collapsed": false,
     "input": [],
     "language": "python",
     "metadata": {},
     "outputs": []
    },
    {
     "cell_type": "code",
     "collapsed": false,
     "input": [],
     "language": "python",
     "metadata": {},
     "outputs": []
    },
    {
     "cell_type": "code",
     "collapsed": false,
     "input": [],
     "language": "python",
     "metadata": {},
     "outputs": []
    }
   ],
   "metadata": {}
  }
 ]
}