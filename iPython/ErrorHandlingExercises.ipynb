{
 "metadata": {
  "name": "",
  "signature": "sha256:416167013a5bc845c4fadd69726bf1174e785853015436b9c464149f63402c7c"
 },
 "nbformat": 3,
 "nbformat_minor": 0,
 "worksheets": [
  {
   "cells": [
    {
     "cell_type": "heading",
     "level": 1,
     "metadata": {},
     "source": [
      "Error Handling Exercises"
     ]
    },
    {
     "cell_type": "markdown",
     "metadata": {},
     "source": [
      "2 Here is a function which takes a filename, opens the file, reads the result, closes the file, and returns the contents. It should look something like this:\n",
      "\n",
      "``\n",
      "In []:\n",
      "def read_all_from_file(filename):\n",
      "    f = open(filename)\n",
      "    contents = f.read()\n",
      "    f.close()\n",
      "    return contents\n",
      "``\n",
      "\n",
      "Use runtime error handling concepts to improve this function, so that it does the following:\n",
      "raises an informative custom error if the file doesn't exist\n",
      "uses try, except, else, amd/or finally to safely return the file's contents & close the file if necessary.\n",
      "add a keyword safe which defaults to False. If the function is called with safe=True, then return an empty string if the file doesn't exist."
     ]
    },
    {
     "cell_type": "code",
     "collapsed": false,
     "input": [
      "\n",
      "def read_all_from_file(filename, safe):\n",
      "    try:\n",
      "        a = open(filename)\n",
      "        result = a.read()\n",
      "    except IOError as err:\n",
      "        print err\n",
      "        print \"File does not exist: \",err.filename\n",
      "        if read_all_from_file(filename, False):\n",
      "           a.close()\n",
      "           return result \n",
      "        \n",
      "        else read_all_from_file(filename, True):\n",
      "            return \" \" \n",
      "        \n",
      "    \n",
      "\n",
      "        \n",
      "read_all_from_file('tmp.txt')\n",
      "read_all_from_file('file.which.does.not.exist')\n",
      "read_all_from_file('file.which.does.not.exist', safe = True)"
     ],
     "language": "python",
     "metadata": {},
     "outputs": [
      {
       "ename": "TypeError",
       "evalue": "read_all_from_file() takes exactly 2 arguments (1 given)",
       "output_type": "pyerr",
       "traceback": [
        "\u001b[1;31m---------------------------------------------------------------------------\u001b[0m\n\u001b[1;31mTypeError\u001b[0m                                 Traceback (most recent call last)",
        "\u001b[1;32m<ipython-input-15-75725a492a40>\u001b[0m in \u001b[0;36m<module>\u001b[1;34m()\u001b[0m\n\u001b[0;32m     17\u001b[0m \u001b[1;33m\u001b[0m\u001b[0m\n\u001b[0;32m     18\u001b[0m \u001b[1;33m\u001b[0m\u001b[0m\n\u001b[1;32m---> 19\u001b[1;33m \u001b[0mread_all_from_file\u001b[0m\u001b[1;33m(\u001b[0m\u001b[1;34m'tmp.txt'\u001b[0m\u001b[1;33m)\u001b[0m\u001b[1;33m\u001b[0m\u001b[0m\n\u001b[0m\u001b[0;32m     20\u001b[0m \u001b[0mread_all_from_file\u001b[0m\u001b[1;33m(\u001b[0m\u001b[1;34m'file.which.does.not.exist'\u001b[0m\u001b[1;33m)\u001b[0m\u001b[1;33m\u001b[0m\u001b[0m\n\u001b[0;32m     21\u001b[0m \u001b[0mread_all_from_file\u001b[0m\u001b[1;33m(\u001b[0m\u001b[1;34m'file.which.does.not.exist'\u001b[0m\u001b[1;33m,\u001b[0m \u001b[0msafe\u001b[0m \u001b[1;33m=\u001b[0m \u001b[0mTrue\u001b[0m\u001b[1;33m)\u001b[0m\u001b[1;33m\u001b[0m\u001b[0m\n",
        "\u001b[1;31mTypeError\u001b[0m: read_all_from_file() takes exactly 2 arguments (1 given)"
       ]
      }
     ],
     "prompt_number": 15
    },
    {
     "cell_type": "code",
     "collapsed": false,
     "input": [
      "def read_all_from_file(filename):\n",
      "    try:\n",
      "       f = open(filename)\n",
      "       result = f.read()\n",
      "    except IOError as err:\n",
      "        print err\n",
      "        print \"File does not exist: \",err.filename\n",
      "        \n",
      "    finally:\n",
      "        f.close()\n",
      "        return result\n",
      "\n",
      "        \n",
      "read_all_from_file('tmp.txt')\n",
      "read_all_from_file('file.which.does.not.exist')\n",
      "read_all_from_file('file.which.does.not.exist', safe = True)"
     ],
     "language": "python",
     "metadata": {},
     "outputs": [
      {
       "output_type": "stream",
       "stream": "stdout",
       "text": [
        "[Errno 2] No such file or directory: 'file.which.does.not.exist'\n",
        "File does not exist:  file.which.does.not.exist\n"
       ]
      },
      {
       "ename": "UnboundLocalError",
       "evalue": "local variable 'f' referenced before assignment",
       "output_type": "pyerr",
       "traceback": [
        "\u001b[1;31m---------------------------------------------------------------------------\u001b[0m\n\u001b[1;31mUnboundLocalError\u001b[0m                         Traceback (most recent call last)",
        "\u001b[1;32m<ipython-input-6-df8733aa753b>\u001b[0m in \u001b[0;36m<module>\u001b[1;34m()\u001b[0m\n\u001b[0;32m     13\u001b[0m \u001b[1;33m\u001b[0m\u001b[0m\n\u001b[0;32m     14\u001b[0m \u001b[0mread_all_from_file\u001b[0m\u001b[1;33m(\u001b[0m\u001b[1;34m'tmp.txt'\u001b[0m\u001b[1;33m)\u001b[0m\u001b[1;33m\u001b[0m\u001b[0m\n\u001b[1;32m---> 15\u001b[1;33m \u001b[0mread_all_from_file\u001b[0m\u001b[1;33m(\u001b[0m\u001b[1;34m'file.which.does.not.exist'\u001b[0m\u001b[1;33m)\u001b[0m\u001b[1;33m\u001b[0m\u001b[0m\n\u001b[0m\u001b[0;32m     16\u001b[0m \u001b[0mread_all_from_file\u001b[0m\u001b[1;33m(\u001b[0m\u001b[1;34m'file.which.does.not.exist'\u001b[0m\u001b[1;33m,\u001b[0m \u001b[0msafe\u001b[0m \u001b[1;33m=\u001b[0m \u001b[0mTrue\u001b[0m\u001b[1;33m)\u001b[0m\u001b[1;33m\u001b[0m\u001b[0m\n",
        "\u001b[1;32m<ipython-input-6-df8733aa753b>\u001b[0m in \u001b[0;36mread_all_from_file\u001b[1;34m(filename)\u001b[0m\n\u001b[0;32m      8\u001b[0m \u001b[1;33m\u001b[0m\u001b[0m\n\u001b[0;32m      9\u001b[0m     \u001b[1;32mfinally\u001b[0m\u001b[1;33m:\u001b[0m\u001b[1;33m\u001b[0m\u001b[0m\n\u001b[1;32m---> 10\u001b[1;33m         \u001b[0mf\u001b[0m\u001b[1;33m.\u001b[0m\u001b[0mclose\u001b[0m\u001b[1;33m(\u001b[0m\u001b[1;33m)\u001b[0m\u001b[1;33m\u001b[0m\u001b[0m\n\u001b[0m\u001b[0;32m     11\u001b[0m         \u001b[1;32mreturn\u001b[0m \u001b[0mresult\u001b[0m\u001b[1;33m\u001b[0m\u001b[0m\n\u001b[0;32m     12\u001b[0m \u001b[1;33m\u001b[0m\u001b[0m\n",
        "\u001b[1;31mUnboundLocalError\u001b[0m: local variable 'f' referenced before assignment"
       ]
      }
     ],
     "prompt_number": 6
    },
    {
     "cell_type": "markdown",
     "metadata": {},
     "source": [
      "1 Find a partner. Choose a driver and a navigator. The driver should copy their Battleship code to a cell in the driver's ErrorHandlingExercises notebook. The driver should explain to the navigator the basics of how their program works. Work together to add some error handling to the program. Include a markdown cell identifying the driver and navigator. When you are done, switch roles and let the navigator be the driver and vice versa. At the end you should both have a Battleship program that includes some error handling.\n",
      "\n",
      "Driver = Masha Kourjanskaia\n",
      "\n",
      "Navigator = Katie Combs"
     ]
    },
    {
     "cell_type": "code",
     "collapsed": false,
     "input": [
      "from ipythonblocks import BlockGrid\n",
      "grid = BlockGrid(10, 10, fill=(173, 216, 230))\n",
      "grid.show()\n",
      "\n",
      "\n",
      "from random import randint\n",
      "\n",
      "board = []\n",
      "\n",
      "for x in range(11):\n",
      "    board.append([\"O\"] * 10)\n",
      "\n",
      "def print_board(board):\n",
      "    for row in board:\n",
      "        print \" \".join(row)\n",
      "\n",
      "print \"Let's play Battleship!\"\n",
      "\n",
      "\n",
      "def random_row(board):\n",
      "    S = randint(1, len(board) - 1)\n",
      "    return S, S + 1, S + 2, S + 3\n",
      "    \n",
      "def random_col(board):\n",
      "    return randint(1, len(board[0]) - 1)\n",
      "    \n",
      "ship_row = random_row(board)\n",
      "ship_col = random_col(board)\n",
      "#print ship_row\n",
      "#print ship_col\n",
      "    \n",
      "    # Everything from here on should go in your for loop!\n",
      "    # Be sure to indent four spaces!\n",
      "for turn in range(11):\n",
      "    while True:\n",
      "        try:\n",
      "            guess_row = int(raw_input(\"Guess Row:\"))\n",
      "            guess_col = int(raw_input(\"Guess Col:\"))\n",
      "    \n",
      "        except ValueError:\n",
      "            print \"I'm sorry, that's not a valid input.  Please try an acceptable integer next time!\"\n",
      "         \n",
      "        else:\n",
      "            if guess_row in ship_row and guess_col == ship_col:\n",
      "                print \"Congratulations! You sunk my battleship!\"\n",
      "        \n",
      "                board[guess_row][guess_col] = \"Y\"\n",
      "        \n",
      "                grid[guess_row, guess_col] = (255, 0, 0)\n",
      "                grid.show()\n",
      "         \n",
      "            else:\n",
      "                if (guess_row < 0 or guess_row > 9) or (guess_col < 0 or guess_col > 9):\n",
      "                    print \"Oops, that's not even in the ocean.\"\n",
      "                elif(board[guess_row][guess_col] == \"X\"):\n",
      "                    print \"You guessed that one already.\"\n",
      "                else:\n",
      "                    print \"You missed my battleship!\"\n",
      "                    board[guess_row][guess_col] = \"X\"\n",
      "                    grid[guess_row, guess_col] = (70, 130, 180)\n",
      "                    grid.show()\n",
      "                    if turn == 10:\n",
      "                        print \"Game Over\"\n",
      "                        print ship_row\n",
      "                        print ship_col\n",
      "                        break\n",
      "         \n",
      "        #print \"turn\", (turn + 1)\n",
      "        #print_board(board)"
     ],
     "language": "python",
     "metadata": {},
     "outputs": []
    },
    {
     "cell_type": "code",
     "collapsed": false,
     "input": [],
     "language": "python",
     "metadata": {},
     "outputs": []
    }
   ],
   "metadata": {}
  }
 ]
}