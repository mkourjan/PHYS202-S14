{
 "metadata": {
  "name": "",
  "signature": "sha256:86dc4b7524cdf593a8c9b94712676e96aad255b94df98160c879d7a7a37f5423"
 },
 "nbformat": 3,
 "nbformat_minor": 0,
 "worksheets": [
  {
   "cells": [
    {
     "cell_type": "heading",
     "level": 1,
     "metadata": {},
     "source": [
      "Error Handling Exercises"
     ]
    },
    {
     "cell_type": "markdown",
     "metadata": {},
     "source": [
      "1. Here is a function which takes a filename, opens the file, reads the result, closes the file, and returns the contents. It should look something like this:\n",
      "\n",
      "``\n",
      "In []:\n",
      "def read_all_from_file(filename):\n",
      "    f = open(filename)\n",
      "    contents = f.read()\n",
      "    f.close()\n",
      "    return contents\n",
      "``\n",
      "\n",
      "Use runtime error handling concepts to improve this function, so that it does the following:\n",
      "raises an informative custom error if the file doesn't exist\n",
      "uses try, except, else, amd/or finally to safely return the file's contents & close the file if necessary.\n",
      "add a keyword safe which defaults to False. If the function is called with safe=True, then return an empty string if the file doesn't exist."
     ]
    },
    {
     "cell_type": "code",
     "collapsed": false,
     "input": [
      "\n",
      "def read_all_from_file(filename):\n",
      "    try:\n",
      "       f = open(filename)\n",
      "       result = f.read()\n",
      "    except IOError as err:\n",
      "        print err\n",
      "        print \"File does not exist: \",err.filename\n",
      "       \n",
      "    else:\n",
      "        f.close()\n",
      "        return result\n",
      "\n",
      "        \n",
      "read_all_from_file('tmp.txt')\n",
      "read_all_from_file('file.which.does.not.exist')\n",
      "read_all_from_file('file.which.does.not.exist', safe = True)"
     ],
     "language": "python",
     "metadata": {},
     "outputs": [
      {
       "output_type": "stream",
       "stream": "stdout",
       "text": [
        "[Errno 2] No such file or directory: 'file.which.does.not.exist'\n",
        "File does not exist:  file.which.does.not.exist\n"
       ]
      },
      {
       "ename": "TypeError",
       "evalue": "read_all_from_file() got an unexpected keyword argument 'safe'",
       "output_type": "pyerr",
       "traceback": [
        "\u001b[1;31m---------------------------------------------------------------------------\u001b[0m\n\u001b[1;31mTypeError\u001b[0m                                 Traceback (most recent call last)",
        "\u001b[1;32m<ipython-input-5-55347862f17b>\u001b[0m in \u001b[0;36m<module>\u001b[1;34m()\u001b[0m\n\u001b[0;32m     15\u001b[0m \u001b[0mread_all_from_file\u001b[0m\u001b[1;33m(\u001b[0m\u001b[1;34m'tmp.txt'\u001b[0m\u001b[1;33m)\u001b[0m\u001b[1;33m\u001b[0m\u001b[0m\n\u001b[0;32m     16\u001b[0m \u001b[0mread_all_from_file\u001b[0m\u001b[1;33m(\u001b[0m\u001b[1;34m'file.which.does.not.exist'\u001b[0m\u001b[1;33m)\u001b[0m\u001b[1;33m\u001b[0m\u001b[0m\n\u001b[1;32m---> 17\u001b[1;33m \u001b[0mread_all_from_file\u001b[0m\u001b[1;33m(\u001b[0m\u001b[1;34m'file.which.does.not.exist'\u001b[0m\u001b[1;33m,\u001b[0m \u001b[0msafe\u001b[0m \u001b[1;33m=\u001b[0m \u001b[0mTrue\u001b[0m\u001b[1;33m)\u001b[0m\u001b[1;33m\u001b[0m\u001b[0m\n\u001b[0m",
        "\u001b[1;31mTypeError\u001b[0m: read_all_from_file() got an unexpected keyword argument 'safe'"
       ]
      }
     ],
     "prompt_number": 5
    },
    {
     "cell_type": "code",
     "collapsed": false,
     "input": [],
     "language": "python",
     "metadata": {},
     "outputs": []
    }
   ],
   "metadata": {}
  }
 ]
}