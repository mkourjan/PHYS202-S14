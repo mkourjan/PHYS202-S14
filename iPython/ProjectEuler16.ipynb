{
 "metadata": {
  "name": "",
  "signature": "sha256:e777dfeb17e4b9cb5854481b03a91ddb3016194e5a5f626d5a79efa5ea114740"
 },
 "nbformat": 3,
 "nbformat_minor": 0,
 "worksheets": [
  {
   "cells": [
    {
     "cell_type": "heading",
     "level": 1,
     "metadata": {},
     "source": [
      "Project Euler 16"
     ]
    },
    {
     "cell_type": "markdown",
     "metadata": {},
     "source": [
      "Power digit sum\n",
      "Problem 16\n",
      "2 ** 15 = 32768 and the sum of its digits is 3 + 2 + 7 + 6 + 8 = 26.\n",
      "\n",
      "What is the sum of the digits of the number 2 ** 1000?"
     ]
    },
    {
     "cell_type": "code",
     "collapsed": false,
     "input": [],
     "language": "python",
     "metadata": {},
     "outputs": [],
     "prompt_number": 3
    },
    {
     "cell_type": "code",
     "collapsed": false,
     "input": [
      "a = 2 ** 1000\n",
      "a = str(a)\n",
      "b = 0\n",
      "for i in a:\n",
      "    b+=int(i)\n",
      "print b"
     ],
     "language": "python",
     "metadata": {},
     "outputs": [
      {
       "output_type": "stream",
       "stream": "stdout",
       "text": [
        "1366\n"
       ]
      }
     ],
     "prompt_number": 3
    },
    {
     "cell_type": "markdown",
     "metadata": {},
     "source": [
      "I created a variable called \"a\" that I assigned to the number 2 ** 1000.  I than converted that number into a string so that I could look at different individual numbers that make up the overall number.  I than set the initial condition of b to zero.  I looped through the items in the string called a, and I appended each item(that I converted into integers) to b.  I than printed b! "
     ]
    },
    {
     "cell_type": "code",
     "collapsed": false,
     "input": [],
     "language": "python",
     "metadata": {},
     "outputs": []
    }
   ],
   "metadata": {}
  }
 ]
}