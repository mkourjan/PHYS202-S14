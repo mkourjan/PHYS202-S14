{
 "metadata": {
  "name": "",
  "signature": "sha256:cf295806a602b42108be7a4ab6987944923372a7207a3f584692fb9b0a6d3d36"
 },
 "nbformat": 3,
 "nbformat_minor": 0,
 "worksheets": [
  {
   "cells": [
    {
     "cell_type": "heading",
     "level": 1,
     "metadata": {},
     "source": [
      "MC Integtation Exercises"
     ]
    },
    {
     "cell_type": "markdown",
     "metadata": {},
     "source": [
      "Question 1\n",
      "Let\u2019s compute the electric potential from a plane of charge as shown in the figure using Monte Carlo integration.\n"
     ]
    },
    {
     "cell_type": "code",
     "collapsed": false,
     "input": [
      "%pylab inline\n",
      "import numpy as np\n",
      "import matplotlib.pyplot as plt"
     ],
     "language": "python",
     "metadata": {},
     "outputs": [
      {
       "output_type": "stream",
       "stream": "stdout",
       "text": [
        "Populating the interactive namespace from numpy and matplotlib\n"
       ]
      }
     ],
     "prompt_number": 1
    },
    {
     "cell_type": "code",
     "collapsed": false,
     "input": [
      "from IPython.html.widgets import interact, interactive\n"
     ],
     "language": "python",
     "metadata": {},
     "outputs": [],
     "prompt_number": 2
    },
    {
     "cell_type": "code",
     "collapsed": false,
     "input": [
      "import sys\n",
      "sys.path.insert(0,\"../Interpolation\")\n",
      "from Electrostatics import *"
     ],
     "language": "python",
     "metadata": {},
     "outputs": [],
     "prompt_number": 3
    },
    {
     "cell_type": "markdown",
     "metadata": {},
     "source": [
      "(a) Use the sample mean method to compute the potential at point P(2,3) due to the disk of charge for different numbers of samples N=(101,102,103,104,105,106). Report the value and its statistical uncertainty for each sample size. How does the result depend on N?"
     ]
    },
    {
     "cell_type": "code",
     "collapsed": false,
     "input": [
      "X1 = 2.\n",
      "Y1 = 3.\n",
      "q = 1e-6\n",
      "x2 = -1.\n",
      "x3 = 1.\n",
      "y2 = 0.\n",
      "y3 = 2.\n",
      "\n",
      "N = (10. ** 1, 10. **2, 10.**3, 10.**4, 10.**5, 10.**6)\n",
      "\n",
      "for i in N:\n",
      "    x = (x3 - x2) * np.random.random_sample(i) + x2\n",
      "    y = (y3 - y2) * np.random.random_sample(i)\n",
      "    \n",
      "    I = (x3 - x2) * (y3 - y2) * pointPotential(x, y, q, X1, Y1).mean() \n",
      "    \n",
      "    err = (x3 - x2) * (y3 - y2) * np.sqrt(((pointPotential(x, y, q, X1, Y1)**2).mean() - (pointPotential(x, y, q, X1, Y1).mean())**2)/i) \n",
      "    \n",
      "    print \"I  =\", I, \"+/-\", err"
     ],
     "language": "python",
     "metadata": {},
     "outputs": [
      {
       "output_type": "stream",
       "stream": "stdout",
       "text": [
        "I  = 13279.7811173 +/- 1039.32579401\n",
        "I  = 12571.8231436 +/- 255.146172507\n",
        "I  = 12937.0166528 +/- 91.9846527397\n",
        "I  = 13011.756645 +/- 29.8605675939\n",
        "I  = 13020.4580962 +/- 9.38319848684\n",
        "I  ="
       ]
      },
      {
       "output_type": "stream",
       "stream": "stdout",
       "text": [
        " 13024.2168823 +/- 2.97136165243\n"
       ]
      }
     ],
     "prompt_number": 16
    },
    {
     "cell_type": "markdown",
     "metadata": {},
     "source": [
      "(b) Now use the same method to compute the electric potential, V, at point P(2,3), from a disk centered on the origin with radius, R=1.2 m, and charge density, \u03c3 = 2 nC/m2 ."
     ]
    },
    {
     "cell_type": "code",
     "collapsed": false,
     "input": [
      "V = lambda r, theta: (K * sigma * r)/np.abs(r - rdisk)\n",
      "\n",
      "thetamin = 0.\n",
      "thetamax = 2 * pi\n",
      "rmin = 0.\n",
      "rmax = 0.012\n",
      "\n",
      "K = 8.9875517873681764e9\n",
      "sigma = 2e-9\n",
      "rdisk = np.sqrt(2**2 + 3**2)\n",
      "\n",
      "N = (10 ** 1, 10 **2, 10**3, 10**4, 10**5, 10**6)\n",
      "\n",
      "for i in N:\n",
      "    theta = (thetamax - thetamin) * np.random.random_sample(i)\n",
      "    r = (rmax - rmin) * np.random.random_sample(i)\n",
      "    \n",
      "    I = (rmax - rmin) * (thetamax - thetamin) * V(r, theta).mean()\n",
      "    err = (rmax - rmin) * (thetamax - thetamin) * np.sqrt(((V(r, theta)**2).mean() - (V(r, theta).mean())**2)/i)\n",
      "    \n",
      "    print 'I =', I, '+/-', err"
     ],
     "language": "python",
     "metadata": {},
     "outputs": [
      {
       "output_type": "stream",
       "stream": "stdout",
       "text": [
        "I = 0.00281275436688 +/- 0.000415103916152\n",
        "I = 0.00243174332644 +/- 0.000129436860371\n",
        "I = 0.00224385909898 +/- 4.15958555542e-05\n",
        "I = 0.0022485496733 +/- 1.30929020492e-05\n",
        "I = 0.00226526522481 +/- 4.13814895658e-06\n",
        "I ="
       ]
      },
      {
       "output_type": "stream",
       "stream": "stdout",
       "text": [
        " 0.00226355077699 +/- 1.30624845221e-06\n"
       ]
      }
     ],
     "prompt_number": 17
    },
    {
     "cell_type": "markdown",
     "metadata": {},
     "source": [
      "Question 2\n",
      "\n",
      "Use the sample mean method to compute the volume of a sphere with radius 1 using spherical coordinates:\n",
      "V=\u222b10\u222b\u03c00\u222b2\u03c00r2sin(\u03b8)drd\u03b8d\u03d5\n",
      "for N=(101,102,103,104,105,106). Report the value and statistical uncertainty for each sample size. How does the result depend on N?"
     ]
    },
    {
     "cell_type": "code",
     "collapsed": false,
     "input": [
      "V = lambda r, theta, phi:r**2 * np.sin(theta)\n",
      "\n",
      "r0 = 0.; r1 = 1.\n",
      "theta0 = 0.\n",
      "thetapi = np.pi\n",
      "phi0 = 0.\n",
      "phi2pi = 2 * pi\n",
      "\n",
      "N = (10**1, 10**2, 10**3, 10**4, 10**5, 10**6)\n",
      "for i in N:\n",
      "    r = (r1 - r0) * np.random.random_sample(i)\n",
      "    theta = (thetapi - theta0) * np.random.random_sample(i)\n",
      "    phi = (phi2pi - phi0) * np.random.random_sample(i)\n",
      "    \n",
      "    I = (r1 - r0) * (thetapi - theta0) * (phi2pi - phi0) * V(r, theta, phi).mean()\n",
      "    err = (r1 - r0) * (thetapi - theta0) * (phi2pi - phi0) * np.sqrt(((V(r, theta, phi)**2).mean() - (V(r, theta, phi).mean())**2)/i)\n",
      "    \n",
      "    print \"I =\", I, \"+/-\", err"
     ],
     "language": "python",
     "metadata": {},
     "outputs": [
      {
       "output_type": "stream",
       "stream": "stdout",
       "text": [
        "I = 2.46290526653 +/- 0.950482053\n",
        "I = 4.69583725114 +/- 0.492142183462\n",
        "I = 4.01438970157 +/- 0.14091390076\n",
        "I = 4.16305546354 +/- 0.0460615986268\n",
        "I = 4.19383323828 +/- 0.014644626446\n",
        "I ="
       ]
      },
      {
       "output_type": "stream",
       "stream": "stdout",
       "text": [
        " 4.18789726125 +/- 0.00462138415237\n"
       ]
      }
     ],
     "prompt_number": 18
    },
    {
     "cell_type": "markdown",
     "metadata": {},
     "source": [
      "Question 3\n",
      "\n",
      "(a) Use the hit or miss Monte Carlo method to estimate the integral of f(x)=41\u2212x2\u2212\u2212\u2212\u2212\u2212\u221a in the interval 0\u2264x\u22641 as a function of N, the number of samples. Let N range from 101 to 106 and use at least 100 different values for N.\n",
      "(np.logspace might be useful here to get evenly spaced values for N.)"
     ]
    },
    {
     "cell_type": "code",
     "collapsed": false,
     "input": [
      "f = lambda x: 4*np.sqrt(1 - x**2)\n",
      "x = np.arange(0, 1.00, 0.01)\n",
      "\n",
      "xmin = 0.\n",
      "xmax = 1.\n",
      "subx = x[logical_and((x > xmin), (x < max))]\n",
      "ymax = f(subx).max()\n",
      "ymin = 0\n",
      "\n",
      "N = np.logspace(1, 6, 100)\n",
      "\n",
      "I = []\n",
      "for i in N:\n",
      "    x = (xmax - xmin) * np.random.random_sample(i);\n",
      "    y = (ymax - ymin)*np.random.random_sample(i);\n",
      "    \n",
      "    newmask = y<f(x)\n",
      "    I.append((xmax - xmin)*(ymax - ymin) * newmask.sum()/newmask.size)\n",
      "    \n",
      "plt.plot(N, I)\n",
      "plt.show()"
     ],
     "language": "python",
     "metadata": {},
     "outputs": [
      {
       "metadata": {},
       "output_type": "display_data",
       "png": "[encoded data removed]",
       "text": [
        "<matplotlib.figure.Figure at 0xae8f4a8>"
       ]
      }
     ],
     "prompt_number": 22
    },
    {
     "cell_type": "markdown",
     "metadata": {},
     "source": [
      "(b) Calculate the percent error for the N values from part (a) using the exact result \u03c0. Make a log-log plot of the error as a function of N.\n",
      "\n",
      "What is the approximate functional dependence of the error on N for large N, for example N\u2265104?"
     ]
    },
    {
     "cell_type": "code",
     "collapsed": false,
     "input": [
      "exact = np.pi\n",
      "\n",
      "N = np.logspace(1, 6, 100)\n",
      "err = []\n",
      "for i in range(0, len(I)):\n",
      "    err.append(100*np.abs(exact - I[i])/exact)\n",
      "\n",
      "plt.loglog(N, err)"
     ],
     "language": "python",
     "metadata": {},
     "outputs": [
      {
       "metadata": {},
       "output_type": "pyout",
       "prompt_number": 23,
       "text": [
        "[<matplotlib.lines.Line2D at 0xa34f550>]"
       ]
      },
      {
       "metadata": {},
       "output_type": "display_data",
       "png": "[encoded data removed]",
       "text": [
        "<matplotlib.figure.Figure at 0xac07588>"
       ]
      }
     ],
     "prompt_number": 23
    },
    {
     "cell_type": "markdown",
     "metadata": {},
     "source": [
      "(c) Estimate the same integral using the sample mean method and compute the statistical uncertainty and error as a function of the number of samples N for N\u2265104. Use at least 100 different values for N.\n",
      "\n",
      "Make a log-log plot of both the statistical uncertainty and the error as a function of N.\n",
      "\n",
      "How many samples are needed to determine the result to two decimal places? What is the approximate functional dependence of the error on N for large N?"
     ]
    },
    {
     "cell_type": "code",
     "collapsed": false,
     "input": [
      "f = lambda x: 4*np.sqrt(1 - x**2)\n",
      "x = np.arange(0, 1.0, 0.01)\n",
      "xmin = 0.\n",
      "xmax = 1.\n",
      "\n",
      "N = np.logspace(1, 4, 100)\n",
      "\n",
      "Ib = []\n",
      "Ic = []\n",
      "for i in N:\n",
      "    samples_x = xmin + (xmax - xmin)*np.random.random_sample(i)\n",
      "    Ib.append((xmax - xmin)* f(samples_x).mean())\n",
      "    Ic.append((xmax - xmin)*np.sqrt(((f(samples_x)**2).mean() - (f(samples_x).mean())**2)/i))\n",
      "\n",
      "exact = np.pi\n",
      "err = []\n",
      "for i in range(0, len(I)):\n",
      "    err.append(100*np.abs(exact - Im[i])/exact)\n",
      "    \n",
      "plt.plot(N, Ib)\n",
      "plt.show()\n",
      "\n",
      "plt.loglog(N, Ic)\n",
      "plt.loglog(N, err)\n",
      "plt.show()"
     ],
     "language": "python",
     "metadata": {},
     "outputs": [
      {
       "metadata": {},
       "output_type": "display_data",
       "png": "[encoded data removed]",
       "text": [
        "<matplotlib.figure.Figure at 0xea630b8>"
       ]
      },
      {
       "metadata": {},
       "output_type": "display_data",
       "png": "[encoded data removed]",
       "text": [
        "<matplotlib.figure.Figure at 0xa8b2048>"
       ]
      }
     ],
     "prompt_number": 26
    },
    {
     "cell_type": "code",
     "collapsed": false,
     "input": [],
     "language": "python",
     "metadata": {},
     "outputs": [],
     "prompt_number": 9
    },
    {
     "cell_type": "code",
     "collapsed": false,
     "input": [],
     "language": "python",
     "metadata": {},
     "outputs": []
    }
   ],
   "metadata": {}
  }
 ]
}