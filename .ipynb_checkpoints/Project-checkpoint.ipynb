{
 "metadata": {
  "name": "",
  "signature": "sha256:309a4a8230c9bbea5f81ab37fe00d33fce3058993667aa264f03ed09a6b3b24e"
 },
 "nbformat": 3,
 "nbformat_minor": 0,
 "worksheets": [
  {
   "cells": [
    {
     "cell_type": "code",
     "collapsed": false,
     "input": [
      "\n",
      "import numpy as np\n",
      "import matplotlib.pyplot as plt\n",
      "%matplotlib inline\n",
      "import random"
     ],
     "language": "python",
     "metadata": {},
     "outputs": [],
     "prompt_number": 11
    },
    {
     "cell_type": "code",
     "collapsed": false,
     "input": [
      "Rs = 50\n",
      "r = arange(0,100, 0.1)\n",
      "lim = 0.1\n",
      "def Prob_rad(r, Rs, lim):\n",
      "    return lim / ((r/Rs + lim)* (1 + (r/Rs)) ** 2)\n",
      "a = Prob_rad(r, 50, 1)\n",
      "plt.plot(r, a)\n",
      "plt.show()"
     ],
     "language": "python",
     "metadata": {},
     "outputs": [
      {
       "metadata": {},
       "output_type": "display_data",
       "png": "[encoded data removed]",
       "text": [
        "<matplotlib.figure.Figure at 0xa351048>"
       ]
      }
     ],
     "prompt_number": 12
    },
    {
     "cell_type": "code",
     "collapsed": false,
     "input": [
      "\n",
      "def Star_Gen(Rs, lim, n, ran):\n",
      "    ''' -Rs affects how dense the stars are in the center.  \n",
      "    Low Rs values give me a dense center, high values give me a spreadout center.\n",
      "    -The lower lim is, the closer the probability distribution is to to the origin.\n",
      "    -n is how many stars we generate.\n",
      "    -ran is the maximum radius.\n",
      "    -The function outputs random radiuses that are based on a distribution.\n",
      "    '''\n",
      "    radius = []\n",
      "    for i in range(n):\n",
      "        #r is the random radius of the star from the center of mass\n",
      "        r = random.random() * ran \n",
      "        #Pr is the probability of finding a star at a particular radius.\n",
      "        pr = Prob_rad(r, Rs, lim)\n",
      "        #s are randomly generated numbers that filter out which stars get graphed \n",
      "        #by checking if it falls below the probability distribution graph.\n",
      "        s = random.random()\n",
      "        #While s is greater than pr, generate more r and Pr and s values.  \n",
      "        #When s becomes less than pr, append that to the radius list.\n",
      "        while s > pr :\n",
      "            r = random.random() * ran\n",
      "            Pr = Prob_rad(r, Rs, lim)\n",
      "            s = random.random()\n",
      "        radius.append(r)\n",
      "    return np.array(radius)\n",
      "    "
     ],
     "language": "python",
     "metadata": {},
     "outputs": [],
     "prompt_number": 14
    },
    {
     "cell_type": "code",
     "collapsed": false,
     "input": [
      "help (Star_Gen)"
     ],
     "language": "python",
     "metadata": {},
     "outputs": [
      {
       "output_type": "stream",
       "stream": "stdout",
       "text": [
        "Help on function Star_Gen in module __main__:\n",
        "\n",
        "Star_Gen(Rs, lim, n, ran)\n",
        "    -Rs affects how dense the stars are in the center.  \n",
        "    Low Rs values give me a dense center, high values give me a spreadout center.\n",
        "    -The lower lim is, the closer the probability distribution is to to the origin.\n",
        "    -n is how many stars we generate.\n",
        "    -ran is the maximum radius.\n",
        "\n"
       ]
      }
     ],
     "prompt_number": 5
    },
    {
     "cell_type": "code",
     "collapsed": false,
     "input": [
      "def theta(n):\n",
      "    '''The theta function takes n(the number of stars) as an imput\n",
      "    and returns random theta angles to randomly distribute those stars.'''\n",
      "    theta = []\n",
      "    for i in range(n):\n",
      "        t = random.random() * 2 * np.pi\n",
      "        theta.append(t)\n",
      "    return np.array(theta)"
     ],
     "language": "python",
     "metadata": {},
     "outputs": [],
     "prompt_number": 15
    },
    {
     "cell_type": "code",
     "collapsed": false,
     "input": [
      "def coordinate(r, t):\n",
      "    '''Converts radius and theta into x and y coordinates.'''\n",
      "    x = r * np.cos(t)\n",
      "    y = r * np.sin(t)\n",
      "    return x, y\n"
     ],
     "language": "python",
     "metadata": {},
     "outputs": [],
     "prompt_number": 7
    },
    {
     "cell_type": "code",
     "collapsed": false,
     "input": [
      "rads =Star_Gen(5, 0.1, 100, 100)\n",
      "thetas = theta(100)\n",
      "x, y= coordinate(rads, thetas)\n",
      "plt.figure(figsize = (10, 10))\n",
      "\n",
      "plt.scatter(x, y, marker = '.', linewidths = 0, color = 'b', s = 20)\n",
      "\n",
      "plt.show()"
     ],
     "language": "python",
     "metadata": {},
     "outputs": [
      {
       "metadata": {},
       "output_type": "display_data",
       "png": "[encoded data removed]",
       "text": [
        "<matplotlib.figure.Figure at 0xa350da0>"
       ]
      }
     ],
     "prompt_number": 16
    },
    {
     "cell_type": "code",
     "collapsed": false,
     "input": [
      "help(Star_Gen)"
     ],
     "language": "python",
     "metadata": {},
     "outputs": []
    },
    {
     "cell_type": "code",
     "collapsed": false,
     "input": [
      "def v(r, theta, dr, dtheta):\n",
      "    vx = dr * np.cos(theta) - r * np.sin(theta) * dtheta\n",
      "    vy = dr * np.sin(theta) + r * np.cos(theta) * dtheta\n",
      "    return vx, vy"
     ],
     "language": "python",
     "metadata": {},
     "outputs": []
    },
    {
     "cell_type": "code",
     "collapsed": false,
     "input": [
      "def theta_vel(r, mu, sigma):\n",
      "    ''' mu affects the shift of the guassian disribution. If Ct1 is 1, their will be points generated around 1.  \n",
      "    sigma affects the width of the function. If the function is wider, we are less likely to get points around Ct1.\n",
      "    r is the radius of the stars from the center of mass.  '''\n",
      "    velocity = []\n",
      "    for i in r:\n",
      "        a = random.gauss(mu, sigma)/np.sqrt(i) \n",
      "        velocity.append(a)\n",
      "    return velocity"
     ],
     "language": "python",
     "metadata": {},
     "outputs": [],
     "prompt_number": 18
    },
    {
     "cell_type": "code",
     "collapsed": false,
     "input": [
      "def rad_vel(n, sigma):\n",
      "    '''the input is n and sigma. n is the number of stars, and sigma controls how large the radial velocitys are.'''\n",
      "    velocity = []\n",
      "    for i in range(n):\n",
      "        rad = random.gauss(0, sigma)\n",
      "        velocity.append(rad)\n",
      "    return velocity"
     ],
     "language": "python",
     "metadata": {},
     "outputs": [],
     "prompt_number": 19
    },
    {
     "cell_type": "code",
     "collapsed": false,
     "input": [
      "plt.scatter(rads, theta_vel(rads, 1, .1))\n",
      "plt.show()"
     ],
     "language": "python",
     "metadata": {},
     "outputs": [
      {
       "metadata": {},
       "output_type": "display_data",
       "png": "[encoded data removed]",
       "text": [
        "<matplotlib.figure.Figure at 0xa50a668>"
       ]
      }
     ],
     "prompt_number": 20
    },
    {
     "cell_type": "code",
     "collapsed": false,
     "input": [
      "def move(x, y, vx, vy):\n",
      "    return x + vx, y + vy\n",
      "def accel(x, y, vx, vy, M, S, Rx, Ry):\n",
      "    r = x**2 + y**2\n",
      "    R = Rx**2 + Ry**2\n",
      "    A = 1/r * (-6.67e-2) * ((M/r**3 - S/(R - r)**3) + S/R**3)\n",
      "    return vx + x*A, vy + y*A\n",
      "    \n",
      "    "
     ],
     "language": "python",
     "metadata": {},
     "outputs": [],
     "prompt_number": 23
    },
    {
     "cell_type": "code",
     "collapsed": false,
     "input": [
      "#listnx = []\n",
      "#listny = []\n",
      "\n",
      "nx, ny = move(x, y, Vx, Vy)\n",
      "nvx, nvy = accel(nx, ny, Vx, Vy, 1, 0, 1, 1)\n",
      "\n",
      "plt.plot(nx, ny)\n",
      "plt.show()\n",
      "\n",
      "#listnx.append(nx)\n",
      "#listny.append(ny)\n",
      "\n",
      "for i in range(20):\n",
      "    nx, ny = move(nx, ny, nvx, nvy)\n",
      "    nvx, nvy = accel(nx, ny, nvx, nvy, 1, 0, 1, 1)\n",
      "\n",
      "    #listnx.append(nx)\n",
      "    #listny.append(ny)\n",
      "    \n",
      "    plt.plot(nx, ny)\n",
      "    plt.show()\n"
     ],
     "language": "python",
     "metadata": {},
     "outputs": [
      {
       "ename": "NameError",
       "evalue": "name 'Vx' is not defined",
       "output_type": "pyerr",
       "traceback": [
        "\u001b[1;31m---------------------------------------------------------------------------\u001b[0m\n\u001b[1;31mNameError\u001b[0m                                 Traceback (most recent call last)",
        "\u001b[1;32m<ipython-input-26-9210849f39a1>\u001b[0m in \u001b[0;36m<module>\u001b[1;34m()\u001b[0m\n\u001b[0;32m      2\u001b[0m \u001b[1;31m#listny = []\u001b[0m\u001b[1;33m\u001b[0m\u001b[1;33m\u001b[0m\u001b[0m\n\u001b[0;32m      3\u001b[0m \u001b[1;33m\u001b[0m\u001b[0m\n\u001b[1;32m----> 4\u001b[1;33m \u001b[0mnx\u001b[0m\u001b[1;33m,\u001b[0m \u001b[0mny\u001b[0m \u001b[1;33m=\u001b[0m \u001b[0mmove\u001b[0m\u001b[1;33m(\u001b[0m\u001b[0mx\u001b[0m\u001b[1;33m,\u001b[0m \u001b[0my\u001b[0m\u001b[1;33m,\u001b[0m \u001b[0mVx\u001b[0m\u001b[1;33m,\u001b[0m \u001b[0mVy\u001b[0m\u001b[1;33m)\u001b[0m\u001b[1;33m\u001b[0m\u001b[0m\n\u001b[0m\u001b[0;32m      5\u001b[0m \u001b[0mnvx\u001b[0m\u001b[1;33m,\u001b[0m \u001b[0mnvy\u001b[0m \u001b[1;33m=\u001b[0m \u001b[0maccel\u001b[0m\u001b[1;33m(\u001b[0m\u001b[0mnx\u001b[0m\u001b[1;33m,\u001b[0m \u001b[0mny\u001b[0m\u001b[1;33m,\u001b[0m \u001b[0mVx\u001b[0m\u001b[1;33m,\u001b[0m \u001b[0mVy\u001b[0m\u001b[1;33m,\u001b[0m \u001b[1;36m1\u001b[0m\u001b[1;33m,\u001b[0m \u001b[1;36m0\u001b[0m\u001b[1;33m,\u001b[0m \u001b[1;36m1\u001b[0m\u001b[1;33m,\u001b[0m \u001b[1;36m1\u001b[0m\u001b[1;33m)\u001b[0m\u001b[1;33m\u001b[0m\u001b[0m\n\u001b[0;32m      6\u001b[0m \u001b[1;33m\u001b[0m\u001b[0m\n",
        "\u001b[1;31mNameError\u001b[0m: name 'Vx' is not defined"
       ]
      }
     ],
     "prompt_number": 26
    },
    {
     "cell_type": "code",
     "collapsed": false,
     "input": [],
     "language": "python",
     "metadata": {},
     "outputs": []
    },
    {
     "cell_type": "code",
     "collapsed": false,
     "input": [],
     "language": "python",
     "metadata": {},
     "outputs": []
    }
   ],
   "metadata": {}
  }
 ]
}