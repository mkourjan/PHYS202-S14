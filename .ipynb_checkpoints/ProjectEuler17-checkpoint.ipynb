{
 "metadata": {
  "name": "",
  "signature": "sha256:a13fd5a24e7290c1677263801a4bdd1cd04e80732e7d5b4f9efe86f3fdbd9c59"
 },
 "nbformat": 3,
 "nbformat_minor": 0,
 "worksheets": [
  {
   "cells": [
    {
     "cell_type": "code",
     "collapsed": false,
     "input": [
      "gamma = 6.67384 \u00d7 10 ** -11\n",
      "M = 1.9891 * 10 ** 41\n",
      "\n",
      "def approaching_gal(S, r, R): \n",
      "    p = R - r\n",
      "    \n"
     ],
     "language": "python",
     "metadata": {},
     "outputs": []
    }
   ],
   "metadata": {}
  }
 ]
}