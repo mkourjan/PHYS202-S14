{
 "metadata": {
  "name": "",
  "signature": "sha256:e0d1071a22b318787c02bc635ba6defbe59782e180536973c28fa25ba03250da"
 },
 "nbformat": 3,
 "nbformat_minor": 0,
 "worksheets": []
}