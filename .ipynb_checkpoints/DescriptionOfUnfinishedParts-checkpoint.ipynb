{
 "metadata": {
  "name": "",
  "signature": "sha256:7e254bdfa7ddfdf7aa8cf6a10414566637e554754cfa879dbc4c741a5905254a"
 },
 "nbformat": 3,
 "nbformat_minor": 0,
 "worksheets": [
  {
   "cells": [
    {
     "cell_type": "heading",
     "level": 1,
     "metadata": {},
     "source": [
      "Description of all of the things I wanted to accomplish, but did not have time to try."
     ]
    },
    {
     "cell_type": "markdown",
     "metadata": {},
     "source": [
      "I did not get a chance to plot all four of the situations where the approaching galaxy is in the rest frame.  I had an idea of how to accomplish this though!  I believe that if I can set the origin at the center of the \"S\" galaxy, the plot should work how I want it to.  This would require that the origin move with each time step.  I can accomplish this by writing a loop that can iterate through the trajectory of the \"S\" galaxy, and can subtract or add certain x and y values to the S and M galaxies at each time step to make the x and y coordinates for S = (0, 0).  If I do this, the M galaxy would shift from the origin by those x and y values as well, and it should mimic an approaching M galaxy situation. "
     ]
    },
    {
     "cell_type": "markdown",
     "metadata": {},
     "source": [
      "I also did not get a chance to animate my graphs.  I know that there is an internal matplotlib animation module that can animate, but I really did not have time to make it work and adapt it to my data.  Additionally, I could have used a program called ffmpeg.  In that case I would have looped through my time steps, and had saved my plot images to a folder.  The ffmpeg program would have put all of the images together into an animation."
     ]
    },
    {
     "cell_type": "code",
     "collapsed": false,
     "input": [],
     "language": "python",
     "metadata": {},
     "outputs": []
    }
   ],
   "metadata": {}
  }
 ]
}