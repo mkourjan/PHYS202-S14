{
 "metadata": {
  "name": "",
  "signature": "sha256:291036322eff8eca0bb6cd9798ac9ecd77011acad8794e55333ad5f8435ce9b9"
 },
 "nbformat": 3,
 "nbformat_minor": 0,
 "worksheets": [
  {
   "cells": [
    {
     "cell_type": "markdown",
     "metadata": {},
     "source": [
      "circular shape\n",
      "randomly generated\n",
      "concentrated more in the center\n",
      "random.random.gauss\n",
      "    function that will give me concentration of galaxy"
     ]
    }
   ],
   "metadata": {}
  }
 ]
}