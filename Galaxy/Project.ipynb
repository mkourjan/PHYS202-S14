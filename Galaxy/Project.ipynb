{
 "metadata": {
  "name": "",
  "signature": "sha256:37c8aa62ad98aadcc0d3e1a67b711b80beb65d784f6681fe9c1bb81d3d432e23"
 },
 "nbformat": 3,
 "nbformat_minor": 0,
 "worksheets": [
  {
   "cells": [
    {
     "cell_type": "code",
     "collapsed": false,
     "input": [
      "%pylab inline\n",
      "import numpy as np\n",
      "import matplotlib.pyplot as plt\n",
      "import random"
     ],
     "language": "python",
     "metadata": {},
     "outputs": [
      {
       "output_type": "stream",
       "stream": "stdout",
       "text": [
        "Populating the interactive namespace from numpy and matplotlib\n"
       ]
      }
     ],
     "prompt_number": 1
    },
    {
     "cell_type": "code",
     "collapsed": false,
     "input": [
      "Rs = 50\n",
      "r = arange(0,100, 0.1)\n",
      "lim = 0.1\n",
      "def Prob_rad(r, Rs, lim):\n",
      "    return lim / ((r/Rs + lim)* (1 + (r/Rs)) ** 2)\n",
      "a = Prob_rad(r, 50, 1)\n",
      "plt.plot(r, a)\n",
      "plt.show()"
     ],
     "language": "python",
     "metadata": {},
     "outputs": [
      {
       "metadata": {},
       "output_type": "display_data",
       "png": "[encoded data removed]",
       "text": [
        "<matplotlib.figure.Figure at 0xa2c5780>"
       ]
      }
     ],
     "prompt_number": 2
    },
    {
     "cell_type": "code",
     "collapsed": false,
     "input": [
      "\n",
      "def Star_Gen(Rs, lim, n, ran):\n",
      "    ''' -Rs affects how dense the stars are in the center.  \n",
      "    Low Rs values give me a dense center, high values give me a spreadout center.\n",
      "    -The lower lim is, the closer the probability distribution is to to the origin.\n",
      "    -n is how many stars we generate.\n",
      "    -ran is the maximum radius.\n",
      "    '''\n",
      "    radius = []\n",
      "    for i in range(n):\n",
      "        #r is the random radius of the star from the center of mass\n",
      "        r = random.random() * ran \n",
      "        #Pr is the probability of finding a star at a particular radius.\n",
      "        pr = Prob_rad(r, Rs, lim)\n",
      "        #s are randomly generated numbers that filter out which stars get graphed \n",
      "        #by checking if it falls below the probability distribution graph.\n",
      "        s = random.random()\n",
      "        #While s is greater than pr, generate more r and Pr and s values.  \n",
      "        #When s becomes less than pr, append that to the radius list.\n",
      "        while s > pr :\n",
      "            r = random.random() * ran\n",
      "            Pr = Prob_rad(r, Rs, lim)\n",
      "            s = random.random()\n",
      "        radius.append(r)\n",
      "    return radius\n",
      "    "
     ],
     "language": "python",
     "metadata": {},
     "outputs": [],
     "prompt_number": 3
    },
    {
     "cell_type": "code",
     "collapsed": false,
     "input": [
      "help (Star_Gen)"
     ],
     "language": "python",
     "metadata": {},
     "outputs": [
      {
       "output_type": "stream",
       "stream": "stdout",
       "text": [
        "Help on function Star_Gen in module __main__:\n",
        "\n",
        "Star_Gen(Rs, lim, n, ran)\n",
        "    -Rs affects how dense the stars are in the center.  \n",
        "    Low Rs values give me a dense center, high values give me a spreadout center.\n",
        "    -The lower lim is, the closer the probability distribution is to to the origin.\n",
        "    -n is how many stars we generate.\n",
        "    -ran is the maximum radius.\n",
        "\n"
       ]
      }
     ],
     "prompt_number": 4
    },
    {
     "cell_type": "code",
     "collapsed": false,
     "input": [
      "def theta(n):\n",
      "    theta = []\n",
      "    for i in range(n):\n",
      "        t = random.random() * 2 * np.pi\n",
      "        theta.append(t)\n",
      "    return theta"
     ],
     "language": "python",
     "metadata": {},
     "outputs": [],
     "prompt_number": 5
    },
    {
     "cell_type": "code",
     "collapsed": false,
     "input": [
      "def coordinate(r, t):\n",
      "    x = r * np.cos(t)\n",
      "    y = r * np.sin(t)\n",
      "    return x, y\n"
     ],
     "language": "python",
     "metadata": {},
     "outputs": [],
     "prompt_number": 6
    },
    {
     "cell_type": "code",
     "collapsed": false,
     "input": [
      "rads =Star_Gen(5, 0.1, 100, 100)\n",
      "thetas = theta(100)\n",
      "x, y= coordinate(a, b)\n",
      "plt.figure(figsize = (10, 10))\n",
      "\n",
      "plt.scatter(x, y, marker = '.', linewidths = 0, color = 'b', s = 20)\n",
      "\n",
      "plt.show()"
     ],
     "language": "python",
     "metadata": {},
     "outputs": [
      {
       "metadata": {},
       "output_type": "display_data",
       "png": "[encoded data removed]",
       "text": [
        "<matplotlib.figure.Figure at 0xa39cef0>"
       ]
      }
     ],
     "prompt_number": 13
    },
    {
     "cell_type": "code",
     "collapsed": false,
     "input": [
      "help(Star_Gen)"
     ],
     "language": "python",
     "metadata": {},
     "outputs": [
      {
       "output_type": "stream",
       "stream": "stdout",
       "text": [
        "Help on function Star_Gen in module __main__:\n",
        "\n",
        "Star_Gen(Rs, lim, n, ran)\n",
        "    -Rs affects how dense the stars are in the center.  \n",
        "    Low Rs values give me a dense center, high values give me a spreadout center.\n",
        "    -The lower lim is, the closer the probability distribution is to to the origin.\n",
        "    -n is how many stars we generate.\n",
        "    -ran is the maximum radius.\n",
        "\n"
       ]
      }
     ],
     "prompt_number": 8
    },
    {
     "cell_type": "code",
     "collapsed": false,
     "input": [
      "def v(r, theta, dr, dtheta):\n",
      "    vx = dr * np.cos(theta) - r * np.sin(theta) * dtheta\n",
      "    vy = dr * np.sin(theta) + r * np.cos(theta) * dtheta\n",
      "    return vx, vy"
     ],
     "language": "python",
     "metadata": {},
     "outputs": [],
     "prompt_number": 9
    },
    {
     "cell_type": "code",
     "collapsed": false,
     "input": [
      "def theta_vel(r, mu, sigma):\n",
      "    ''' mu affects the shift of the guassian disribution. If Ct1 is 1, their will be points generated around 1.  \n",
      "    sigma affects the width of the function. If the function is wider, we are less likely to get points around Ct1.\n",
      "    r is the radius of the stars from the center of mass.  '''\n",
      "    velocity = []\n",
      "    for i in r:\n",
      "        a = random.gauss(mu, sigma)/np.sqrt(i) \n",
      "        velocity.append(a)\n",
      "    return velocity"
     ],
     "language": "python",
     "metadata": {},
     "outputs": [],
     "prompt_number": 27
    },
    {
     "cell_type": "code",
     "collapsed": false,
     "input": [
      "def rad_vel(n, sigma):\n",
      "    velocity = []\n",
      "    for i in range(n):\n",
      "        rad = random.gauss(0, sigma)\n",
      "        velocity.append(rad)\n",
      "    return velocity"
     ],
     "language": "python",
     "metadata": {},
     "outputs": [],
     "prompt_number": 28
    },
    {
     "cell_type": "code",
     "collapsed": false,
     "input": [
      "plt.scatter(rads, theta_vel(rads, 1, .1))\n",
      "plt.show()"
     ],
     "language": "python",
     "metadata": {},
     "outputs": [
      {
       "metadata": {},
       "output_type": "display_data",
       "png": "[encoded data removed]",
       "text": [
        "<matplotlib.figure.Figure at 0xa38d080>"
       ]
      }
     ],
     "prompt_number": 26
    },
    {
     "cell_type": "code",
     "collapsed": false,
     "input": [],
     "language": "python",
     "metadata": {},
     "outputs": []
    }
   ],
   "metadata": {}
  }
 ]
}