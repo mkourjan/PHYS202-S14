{
 "metadata": {
  "name": "",
  "signature": "sha256:50583c49cd756c32633d33872df5f59ef5b307cb7239f8cc959897f298a52054"
 },
 "nbformat": 3,
 "nbformat_minor": 0,
 "worksheets": [
  {
   "cells": [
    {
     "cell_type": "code",
     "collapsed": false,
     "input": [
      "import numpy as np\n",
      "import matplotlib.pyplot as plt\n",
      "%matplotlib inline\n",
      "import random\n",
      "from scipy.integrate import odeint\n",
      "from scipy.integrate import ode"
     ],
     "language": "python",
     "metadata": {},
     "outputs": [],
     "prompt_number": 1
    },
    {
     "cell_type": "heading",
     "level": 2,
     "metadata": {},
     "source": [
      "Test Case 2: Demonstrates that the path of the approaching galaxy is parabolic."
     ]
    },
    {
     "cell_type": "code",
     "collapsed": false,
     "input": [
      "Rx0 = -120 #initial 'x' position of \"S\" galaxy\n",
      "Ry0 = -120 #initial 'y' position of \"S\" galaxy\n",
      "dRx0 = 10 #initial 'x' velocity of \"S\" galaxy\n",
      "dRy0 = 5 #initial 'y' velocity of \"S\" galaxy\n",
      "\n",
      "initarray = np.array([Rx0, Ry0, dRx0, dRy0])\n",
      "\n",
      "'''Function describing movement of approaching galaxy \"S\".  Inputs an array of initial position and velocity\n",
      "values, and outputs an array of new position and velocity values.'''\n",
      "\n",
      "def R_2ndDeriv(initarray, t):\n",
      "    M = 10**11 #kpc\n",
      "    gamma = 4.494e-8 #kpc^3/(Solar Mass)/(10^8 years)^2\n",
      "    S = M #Mass of approaching galaxy in terms of \"M\"\n",
      "    \n",
      "    Rx = initarray[0]\n",
      "    Ry = initarray[1]\n",
      "    dRx = initarray[2]\n",
      "    dRy = initarray[3]\n",
      "    \n",
      "    R = np.sqrt(Rx**2 + Ry**2) #Magnitude of R, where R is distance of \"S\" from \"M\"\n",
      "    \n",
      "    vRx = -gamma*(M+S)/(R**3)*Rx #differential equation given in prompt\n",
      "    vRy = -gamma*(M+S)/(R**3)*Ry #differential equation given in prompt\n",
      "    \n",
      "    return np.array([dRx, dRy, vRx, vRy])\n",
      "    \n",
      "    "
     ],
     "language": "python",
     "metadata": {},
     "outputs": [],
     "prompt_number": 9
    },
    {
     "cell_type": "code",
     "collapsed": false,
     "input": [
      "t = np.arange(0, 23.1,.1) #time\n",
      "S = M #Mass of \"S\" in terms of \"M\"\n",
      "\n",
      "\n",
      "gamma = 4.494e-8 #kpc^3/(Solar Mass)/(10^8 years)^2\n",
      "\n",
      "'''Use the 'odeint' function to solve the differential equation that describes the movement of\n",
      "the approaching \"S\" galaxy'''\n",
      "\n",
      "R = odeint(R_2ndDeriv, initarray, t) \n",
      "\n",
      "Rx = R[:, 0]\n",
      "Ry = R[:, 1]\n",
      "Rvx = R[:, 2]\n",
      "Rvy = R[:, 3]\n",
      "\n",
      "'''Plot the trajectory of the approaching 'S' galaxy'''\n",
      "\n",
      "plt.plot(Rx, Ry)\n",
      "plt.grid()\n",
      "plt.plot(0, 0, 'ro')\n",
      "plt.show()"
     ],
     "language": "python",
     "metadata": {},
     "outputs": [
      {
       "metadata": {},
       "output_type": "display_data",
       "png": "[encoded data removed]",
       "text": [
        "<matplotlib.figure.Figure at 0xb210a90>"
       ]
      }
     ],
     "prompt_number": 10
    },
    {
     "cell_type": "code",
     "collapsed": false,
     "input": [],
     "language": "python",
     "metadata": {},
     "outputs": []
    }
   ],
   "metadata": {}
  }
 ]
}