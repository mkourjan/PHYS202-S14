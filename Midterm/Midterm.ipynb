{
 "metadata": {
  "name": "",
  "signature": "sha256:0df84be74d67d36b0aea09c60eb216c16bbacb8f36567ec77861dbd8547fcb08"
 },
 "nbformat": 3,
 "nbformat_minor": 0,
 "worksheets": [
  {
   "cells": [
    {
     "cell_type": "heading",
     "level": 1,
     "metadata": {},
     "source": [
      "Midterm"
     ]
    },
    {
     "cell_type": "markdown",
     "metadata": {},
     "source": [
      "Question 1\n",
      "\n",
      "In Robert McCloskey\u2019s book Make Way for Ducklings, the names of the ducklings are Jack, Kack, Lack, Mack, Nack, Ouack, Pack, and Quack. This loop outputs these names in order:\n",
      "\n",
      "prefixes = 'JKLMNOPQ' \n",
      "\n",
      "suffix = 'ack'\n",
      "\n",
      "for letter in prefixes: \n",
      "    \n",
      "    print letter + suffix\n",
      "\n",
      "The output is:\n",
      "Jack \n",
      "Kack \n",
      "Lack \n",
      "Mack \n",
      "Nack \n",
      "Oack \n",
      "Pack \n",
      "Qack\n",
      "\n",
      "Of course, that\u2019s not quite right because \u201cOuack\u201d and \u201cQuack\u201d are misspelled.\n",
      "Modify the program to fix this error."
     ]
    },
    {
     "cell_type": "code",
     "collapsed": false,
     "input": [
      "prefixes = 'JKLMNOPQ' \n",
      "suffix = 'ack'\n",
      "for letter in prefixes: \n",
      "    if letter == prefixes[5]:\n",
      "        print \"Ouack\"\n",
      "    elif letter == prefixes[7]:\n",
      "        print \"Quack\"\n",
      "        \n",
      "    else:\n",
      "        print letter + suffix"
     ],
     "language": "python",
     "metadata": {},
     "outputs": []
    },
    {
     "cell_type": "markdown",
     "metadata": {},
     "source": [
      "Question 2\n",
      "\n",
      "Use ipythonblocks to create an 8x8 grid with the first initial of your last name embedded in it in a different color. Use slices and/or loops to set the values rather than setting each block by hand. Here is an example:\n"
     ]
    },
    {
     "cell_type": "code",
     "collapsed": false,
     "input": [
      "from ipythonblocks import BlockGrid\n",
      "grid = BlockGrid(8, 8, fill = (123, 234, 123))\n",
      "\n",
      "for block in grid:\n",
      "    if block.col == 0:\n",
      "        block.green = 0\n",
      "    else:\n",
      "        block.col == 1\n",
      "    if block.row in range(8) and block.col in range(6) and (block.row + block.col) == 4:\n",
      "        block.green = 0\n",
      "grid[4, 1] = (128, 0, 128)\n",
      "grid[5, 2] = (128, 0, 128)\n",
      "grid[6, 3] = (128, 0, 128)\n",
      "grid[7, 4] = (128, 0, 128)\n",
      "\n",
      "grid.show()       \n"
     ],
     "language": "python",
     "metadata": {},
     "outputs": []
    },
    {
     "cell_type": "code",
     "collapsed": false,
     "input": [],
     "language": "python",
     "metadata": {},
     "outputs": []
    },
    {
     "cell_type": "markdown",
     "metadata": {},
     "source": [
      "Question 3\n",
      "\n",
      "\"99 Bottles of Beer\" is a traditional song in the United States and Canada. It is popular to sing on long trips, as it has a very repetitive format which is easy to memorize, and can take a long time to sing. The song's simple lyrics are as follows:\n",
      "\n",
      "99 bottles of beer on the wall, 99 bottles of beer.  \n",
      "Take one down, pass it around, 98 bottles of beer on the wall.\n",
      "\n",
      "The same verse is repeated, each time with one fewer bottle. The song is completed when the singer or singers reach zero.\n",
      "\n",
      "Your task here is to write a program capable of generating all the verses of the song."
     ]
    },
    {
     "cell_type": "code",
     "collapsed": false,
     "input": [
      "number_of_beer1 = raw_input(\"How many bottles of beer are on the wall?\")\n",
      "number_of_beer2 = raw_input(\"I'm sorry, I didn't catch that, I think the beer is getting to me.  Can you repeat that?\")\n",
      "number_of_beer3 = raw_input(\"You just took one down and past it around, how many bottles are left on the wall?\")\n",
      "print \"%s bottles of beer on the wall, %s bottles of beer.  Take one down, pass it around, %s bottles of beer on the wall.\" %(number_of_beer1, number_of_beer2, number_of_beer3)"
     ],
     "language": "python",
     "metadata": {},
     "outputs": []
    },
    {
     "cell_type": "markdown",
     "metadata": {},
     "source": [
      "Question 4\n",
      " \n",
      "Plot a simple graph of a sine function in the range 0 to 3 with a step size of 0.1.\n",
      "Make the line red.\n",
      "Add green diamond-shaped markers with size of 7.\n",
      "Include legible axis labels.\n",
      "Add a legend and a grid to the plot."
     ]
    },
    {
     "cell_type": "code",
     "collapsed": false,
     "input": [
      "%pylab inline\n",
      "%pylab inline\n",
      "from mpl_toolkits.mplot3d.axes3d import Axes3D\n",
      "from matplotlib import cm\n",
      "import matplotlib\n",
      "import numpy as np\n",
      "import matplotlib.cm as cm\n",
      "import matplotlib.mlab as mlab\n",
      "import matplotlib.pyplot as plt\n",
      "\n",
      "\n",
      "x = np.linspace(0, 3, 30, endpoint = True) \n",
      "\n",
      "y = np.sin(x)\n",
      "x1 = np.linspace(0, 3, 30, endpoint = True)\n",
      "y1 = np.sin(x)\n",
      "\n",
      "plt.figure(figsize = (10, 5))\n",
      "\n",
      "plt.xlim(0, 3)\n",
      "plt.ylim(0, 1.2)\n",
      "\n",
      "\n",
      "plt.scatter(x, y, marker = \"^\", color = 'g', label = \"y = sin(x)\")\n",
      "\n",
      "plt.plot(x1, y1, color = 'r', label = \"y = sin(x)\")\n",
      "\n",
      "plt.xlabel('X')\n",
      "plt.ylabel('Y')\n",
      "plt.grid()\n",
      "plt.legend()\n",
      "plt.show()"
     ],
     "language": "python",
     "metadata": {},
     "outputs": []
    },
    {
     "cell_type": "markdown",
     "metadata": {},
     "source": [
      "Question 5\n",
      "\n",
      "Create a 100x5 NumPy array called arr of random floating point numbers between 10.7 and 36.2.\n",
      "Write the array to a file called numbers.txt as 5 columns separated by 2 spaces and formatted with 3 places after the decimal.\n",
      "Include a 3-line header that lists the date and time on line 2 (hint: try !date).\n",
      "Show the first 10 lines of the file using the !head command.\n",
      "Read the data back in from the file to a new floating point NumPy array called arr2 and use a slice to print the first ten lines of the array."
     ]
    },
    {
     "cell_type": "code",
     "collapsed": false,
     "input": [
      "\n",
      "\n"
     ],
     "language": "python",
     "metadata": {},
     "outputs": []
    },
    {
     "cell_type": "code",
     "collapsed": false,
     "input": [
      "%pylab inline\n",
      "import numpy as np\n",
      "arr1 = np.random.normal(22, 25, 500)\n",
      "!date\n",
      "!head 10 numbers.txt\n",
      "arr2 = arr1.reshape(250, 2)\n",
      "savetxt(\"numbers.txt\", arr2)\n",
      "arr3 = loadtxt('numbers.txt', unpack = True, delimiter=\",\", usecols = [250, 2])\n",
      "print arr3\n"
     ],
     "language": "python",
     "metadata": {},
     "outputs": []
    },
    {
     "cell_type": "markdown",
     "metadata": {},
     "source": [
      "\n",
      " a = np.zeros(5, dtype=float)\n",
      " print a"
     ]
    },
    {
     "cell_type": "code",
     "collapsed": false,
     "input": [],
     "language": "python",
     "metadata": {},
     "outputs": []
    },
    {
     "cell_type": "code",
     "collapsed": false,
     "input": [],
     "language": "python",
     "metadata": {},
     "outputs": []
    },
    {
     "cell_type": "markdown",
     "metadata": {},
     "source": [
      "Question 3\n",
      "\n",
      "\"99 Bottles of Beer\" is a traditional song in the United States and Canada. It is popular to sing on long trips, as it has a very repetitive format which is easy to memorize, and can take a long time to sing. \n",
      "\n",
      "The song's simple lyrics are as follows:\n",
      "\n",
      "99 bottles of beer on the wall, 99 bottles of beer.\n",
      "Take one down, pass it around, 98 bottles of beer on the wall.\n",
      "\n",
      "The same verse is repeated, each time with one fewer bottle. The song is completed when the singer or singers reach zero.\n",
      "\n",
      "Your task here is to write a program capable of generating all the verses of the song.\n",
      " "
     ]
    },
    {
     "cell_type": "code",
     "collapsed": false,
     "input": [],
     "language": "python",
     "metadata": {},
     "outputs": []
    },
    {
     "cell_type": "code",
     "collapsed": false,
     "input": [],
     "language": "python",
     "metadata": {},
     "outputs": []
    }
   ],
   "metadata": {}
  }
 ]
}