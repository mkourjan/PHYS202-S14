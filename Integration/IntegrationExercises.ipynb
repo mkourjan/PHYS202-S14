{
 "metadata": {
  "name": "",
  "signature": "sha256:a22b6b305e33d9dfd17ce0b42e3ea588b428d0c1060f2abaa77d130cd25e6b05"
 },
 "nbformat": 3,
 "nbformat_minor": 0,
 "worksheets": [
  {
   "cells": [
    {
     "cell_type": "heading",
     "level": 1,
     "metadata": {},
     "source": [
      "Integration Exercises"
     ]
    },
    {
     "cell_type": "markdown",
     "metadata": {},
     "source": [
      "Question 1\n",
      "\n",
      "(a) Write two functions trapz(func,x) and simps(func,x) to compute the integral of the function func over the variable x using the trapezoidal rule and Simpson's rule to a file called Integrators.py. Do not use the scipy.integrate built-in functions. Include docstrings with each function that describe what they do. Then import the module and use the functions to answer the following questions."
     ]
    },
    {
     "cell_type": "code",
     "collapsed": false,
     "input": [
      "%pylab inline\n",
      "import scipy.integrate as integrate\n",
      "import numpy as np\n",
      "import matplotlib.pyplot as plt"
     ],
     "language": "python",
     "metadata": {},
     "outputs": [
      {
       "output_type": "stream",
       "stream": "stdout",
       "text": [
        "Populating the interactive namespace from numpy and matplotlib\n"
       ]
      }
     ],
     "prompt_number": 11
    },
    {
     "cell_type": "code",
     "collapsed": false,
     "input": [
      "def trapz(func,N , a, b):\n",
      "    #Takes trapezoid slices of the function and than sums them up.\n",
      "    h = (b-a)/N\n",
      "    k = np.arange(1,N)\n",
      "    return h*(0.5*func(a) + 0.5*func(b) + func(a+k*h).sum())\n",
      "    \n",
      "    \n",
      "def simps(func,N , a, b):\n",
      "    #Uses Quadratic curves to approximate the function!\n",
      "    h = (b-a)/N\n",
      "    k1 = np.arange(1,N/2+1)\n",
      "    k2 = np.arange(1,N/2)\n",
      "    return (1./3.)*h*(func(a) + func(b) + 4.*func(a+(2*k1-1)*h).sum() + 2.*func(a+2*k2*h).sum())\n",
      "    "
     ],
     "language": "python",
     "metadata": {},
     "outputs": [],
     "prompt_number": 132
    },
    {
     "cell_type": "markdown",
     "metadata": {},
     "source": [
      "\n",
      "(b) Use your trapz and simps functions from part (a) to calculate the integral of x4\u22122x+1 from x = 0 to x = 2 with N = 10, N = 100, and N = 1000. Then compare your result to the known correct value of 4.4. What is the percent error in each case?\n",
      " "
     ]
    },
    {
     "cell_type": "code",
     "collapsed": false,
     "input": [
      "def func(x):\n",
      "    return x ** 4 - 2*x + 1\n",
      "\n",
      "def trapz(func, N, a, b):\n",
      "    h = (b-a)/N\n",
      "    k = np.arange(1,N)\n",
      "    return h*(0.5*func(a) + 0.5*func(b) + func(a+k*h).sum())\n",
      "    \n",
      "def simps(func, N, a, b):\n",
      "    h = (b-a)/N\n",
      "    k1 = np.arange(1,N/2+1)\n",
      "    k2 = np.arange(1,N/2)\n",
      "    return (1./3.)*h*(func(a) + func(b) + 4.*func(a+(2*k1-1)*h).sum() + 2.*func(a+2*k2*h).sum())\n",
      "\n",
      "\n",
      "print trapz(func,10, 0.0, 2.0)\n",
      "print simps(func,10, 0.0, 2.0)\n",
      "\n",
      "a = trapz(func,10, 0.0, 2.0)\n",
      "b = simps(func,10, 0.0, 2.0)\n",
      "\n",
      "c = (a - 4.4)/4.4 * 100\n",
      "d = (b - 4.4)/4.4 * 100\n",
      "\n",
      "print \"Trapz Error: \", c, \"%\"\n",
      "print \"Simps Error: \", d, \"%\""
     ],
     "language": "python",
     "metadata": {},
     "outputs": [
      {
       "output_type": "stream",
       "stream": "stdout",
       "text": [
        "4.50656\n",
        "4.40042666667\n",
        "Trapz Error:  2.42181818182 %\n",
        "Simps Error:  0.00969696969697 %\n"
       ]
      }
     ],
     "prompt_number": 122
    },
    {
     "cell_type": "markdown",
     "metadata": {},
     "source": [
      "Question 2\n",
      "\n",
      "Consider the integral\n",
      "\n",
      "E(x)=\u222bx0e\u2212t2dt\n",
      "\n",
      "This is the error function, commonly seen in probability and statistics. There is no known way to perform this particular integral analytically, although the integrand can be expanded in a Taylor series and terms computed to arbitrary order. For most applications, numerical approaches are the only way forward.\n",
      "\n",
      "(a) Use scipy.integrate.cumtrapz to calculate E(x) for values of x from 0 to 3 in steps of 0.1. Print the result."
     ]
    },
    {
     "cell_type": "code",
     "collapsed": false,
     "input": [
      "x = np.linspace(0, 3, num = 30)\n",
      "y = np.exp(-(x**2))\n",
      "y_int = integrate.cumtrapz(y, x, initial=0)\n",
      "print y_int"
     ],
     "language": "python",
     "metadata": {},
     "outputs": [
      {
       "output_type": "stream",
       "stream": "stdout",
       "text": [
        "[ 0.          0.1028977   0.203628    0.30015952  0.39071871  0.47388559\n",
        "  0.54865477  0.61445829  0.67115136  0.71896644  0.75844433  0.79035214\n",
        "  0.81559822  0.83515262  0.84997946  0.86098488  0.8689817   0.87466999\n",
        "  0.87863094  0.88133097  0.88313271  0.88430968  0.88506233  0.88553349\n",
        "  0.88582223  0.88599545  0.88609717  0.88615565  0.88618856  0.88620669]\n"
       ]
      }
     ],
     "prompt_number": 13
    },
    {
     "cell_type": "markdown",
     "metadata": {},
     "source": [
      "(b) Plot the integrand as a function of t and E(x) as a function of x (both ranging from 0 to 3) on the same graph."
     ]
    },
    {
     "cell_type": "code",
     "collapsed": false,
     "input": [
      "x = np.linspace(0, 3, num=30)\n",
      "y = np.exp(-(x**2))\n",
      "y_int = integrate.cumtrapz(y, x, initial=0)\n",
      "plt.plot(x, y_int, 'ro', label = \"integral\")\n",
      "plt.plot(x, y, label = \"original function\")\n",
      "plt.legend(loc = \"best\")\n",
      "plt.show()"
     ],
     "language": "python",
     "metadata": {},
     "outputs": [
      {
       "metadata": {},
       "output_type": "display_data",
       "png": "[encoded data removed]",
       "text": [
        "<matplotlib.figure.Figure at 0xa2985f8>"
       ]
      }
     ],
     "prompt_number": 12
    },
    {
     "cell_type": "markdown",
     "metadata": {},
     "source": [
      "Question 3\n",
      "\n",
      "Consider a particle in a one-dimensional box of width L. The probability of finding the particle between a and b is given by\n",
      "\n",
      "P(a,b)=\u222bba|\u03c8(x)|2dx\n",
      "\n",
      "where\n",
      "\n",
      "\u03c8(x)=2L\u203e\u203e\u221asin(n\u03c0xL)\n",
      "\n",
      "is the wavefunction.\n",
      "\n",
      "(a) What is the probability of finding the particle between L/3 and L/2 for the ground state (n = 1) and for the first excited state (n = 2)? Let L = 1. Perform the integral using both scipy.integrate.trapz and scipy.integrate.quad with an accuracy of 6 sig figs. How many slices did you need to use for scipy.integrate.trapz?"
     ]
    },
    {
     "cell_type": "code",
     "collapsed": false,
     "input": [
      "x = np.linspace(1./3, 1./2., 500)\n",
      "\n",
      "def psi(x, n):\n",
      "    \n",
      "    return sqrt(2.) * np.sin(n* np.pi * x)\n",
      "\n",
      "y1 = psi(x, 1)\n",
      "y2 = psi(x, 2)\n",
      "\n",
      "int_y1 = integrate.trapz(y1, x)\n",
      "int_y2 = integrate.trapz(y2, x)\n",
      "\n",
      "\n",
      "y1, err = integrate.quad(psi, 1./3., 1./2., args = (1, ))\n",
      "y2, err = integrate.quad(psi, 1./3., 1./2., args = (2, ))\n",
      "\n",
      "print \"n = 1 Trapz: \", int_y1\n",
      "print \"n = 1  Quad: \", y1\n",
      "print \"-------------------------------\"\n",
      "print \"n = 2 Trapz: \", int_y2\n",
      "print \"n = 2 Quad:  \",y2\n",
      "print \"500 Slices for an accuracy of 6 sig figs!\"\n"
     ],
     "language": "python",
     "metadata": {},
     "outputs": [
      {
       "output_type": "stream",
       "stream": "stdout",
       "text": [
        "n = 1 Trapz:  0.225079058388\n",
        "n = 1  Quad:  0.225079079039\n",
        "-------------------------------\n",
        "n = 2 Trapz:  0.112539498217\n",
        "n = 2 Quad:   0.11253953952\n",
        "500 Slices for an accuracy of 6 sig figs!\n"
       ]
      }
     ],
     "prompt_number": 125
    },
    {
     "cell_type": "markdown",
     "metadata": {},
     "source": [
      "Make a plot of |\u03c8(x)|2 vs. x for the first two excited states with L=1"
     ]
    },
    {
     "cell_type": "code",
     "collapsed": false,
     "input": [
      "first_state = integrate.cumtrapz(psi(x, 1), x)\n",
      "second_state = integrate.cumtrapz(psi(x, 2), x)\n",
      "\n",
      "x = x[0:-1]\n",
      "\n",
      "plt.figure(figsize = (10, 5))   \n",
      "plt.plot(x, first_state, label = \"first excited state\")\n",
      "plt.plot(x, second_state, label = \"second excited state\")\n",
      "plt.legend(loc = \"best\")\n",
      "plt.xlabel(\"X\")\n",
      "plt.ylabel(\"Probability Function\")\n",
      "plt.show()\n",
      "\n"
     ],
     "language": "python",
     "metadata": {},
     "outputs": [
      {
       "metadata": {},
       "output_type": "display_data",
       "png": "[encoded data removed]",
       "text": [
        "<matplotlib.figure.Figure at 0xa795e10>"
       ]
      }
     ],
     "prompt_number": 126
    },
    {
     "cell_type": "markdown",
     "metadata": {},
     "source": [
      "Question 4\n",
      "\n",
      "(a) Use numerical integration to find M, r\u20d7 cm, and Icm. Note that you need M to compute r\u20d7 cm and r\u20d7 cm to compute Icm. The moments of inertia Icm are Ixx, Iyy, and Izz, where e.g. Ixx=\u222b((y\u2212ycm)2+(z\u2212zcm)2)\u03c1dV, etc."
     ]
    },
    {
     "cell_type": "code",
     "collapsed": false,
     "input": [
      "p = lambda z, y, x: (100 * (y + 0.1)) + 100 * z ** 2\n",
      "xint = lambda z, y, x: x * p(x, y, z)/mass\n",
      "yint = lambda z, y, x: y* p(x, y, z)/mass\n",
      "zint = lambda z, y, x: z* p(x, y, z)/mass\n",
      "Ixint = lambda z, y, x: ((y - ycm) ** 2 + (z - zcm) ** 2) * p(x, y, z)\n",
      "Iyint = lambda z, y, x: ((x - xcm) ** 2 + (z - zcm) ** 2) * p(x, y, z)\n",
      "Izint = lambda z, y, x: ((y - ycm) ** 2 + (x - xcm) ** 2) * p(x, y, z)\n",
      "xmin = -0.1\n",
      "xmax = 0.1\n",
      "\n",
      "ymin = lambda x: -0.1\n",
      "ymax = lambda x: 0.1\n",
      "zmin = lambda x, y: -0.5\n",
      "zmax = lambda x, y: 0.5\n",
      "\n",
      "mass, err = integrate.tplquad(p, xmin, xmax, ymin, ymax,zmin, zmax)\n",
      "xcm, err = integrate.tplquad(xint, xmin, xmax, ymin, ymax, zmin, zmax)\n",
      "ycm, err = integrate.tplquad(yint, xmin, xmax, ymin, ymax, zmin, zmax)\n",
      "zcm, err = integrate.tplquad(zint, xmin, xmax, ymin, ymax, zmin, zmax)\n",
      "Ixx, err = integrate.tplquad(Ixint, xmin, xmax, ymin, ymax, zmin, zmax)\n",
      "Iyy, err = integrate.tplquad(Iyint, xmin, xmax, ymin, ymax, zmin, zmax)\n",
      "Izz, err = integrate.tplquad(Izint, xmin, xmax, ymin, ymax, zmin, zmax)\n",
      "\n",
      "print \"mass: \", mass\n",
      "print \"Center of mass: \", xcm, \",\", ycm, \",\", zcm\n",
      "print \"Moment of inertia: \", Ixx, \",\", Iyy, \",\", Izz"
     ],
     "language": "python",
     "metadata": {},
     "outputs": [
      {
       "output_type": "stream",
       "stream": "stdout",
       "text": [
        "mass:  0.733333333333\n",
        "Center of mass:  0.0 , 0.0181818181818 , 0.0\n",
        "Moment of inertia:  0.0354740128558 , 0.0358577777778 , 0.00244290174472\n"
       ]
      }
     ],
     "prompt_number": 129
    },
    {
     "cell_type": "markdown",
     "metadata": {},
     "source": [
      "\n",
      "(b) The mass, center of mass, and moments of inertia can be easily computed analytically for a rectangular box of uniform density. (Compute them yourself or look them up). Verify your algorithm from part (a) works by having it compute the result for this test case. How accurate (how many sig figs?) is the numerical result?"
     ]
    },
    {
     "cell_type": "code",
     "collapsed": false,
     "input": [
      "m = mass\n",
      "xcm = 0.2\n",
      "ycm = 0.2\n",
      "zcm = 1.\n",
      "Izcm = (1./12.) * m * (ycm ** 2 + xcm ** 2)\n",
      "Ixcm = (1./12.) * m * (ycm ** 2 +zcm ** 2)\n",
      "Iycm = (1./12.) * m * (xcm ** 2 +zcm ** 2)\n",
      "\n",
      "p1 = lambda z, y, x: 1\n",
      "\n",
      "xint1 = lambda z, y, x: x * p1(x, y, z)/mass\n",
      "yint1 = lambda z, y, x: y * p1(x, y, z)/mass\n",
      "zint1 = lambda z, y, x: z * p1(x, y, z)/mass\n",
      "Ixint1 = lambda z, y, x: ((y - yc2)** 2 + (z - zc2) ** 2) * p1(x, y, z)\n",
      "Iyint1 = lambda z, y, x: ((x - xc2)** 2 + (z - zc2) ** 2) * p1(x, y, z)\n",
      "Izint1 = lambda z, y, x: ((y - yc2)** 2 + (x - xc2) ** 2) * p1(x, y, z)\n",
      "\n",
      "mass, err1 = integrate.tplquad(p1, xmin, xmax, ymin, ymax, zmin, zmax)\n",
      "xc1, err1 = integrate.tplquad(xint1, xmin, xmax, ymin, ymax, zmin, zmax)\n",
      "yc1, err1 = integrate.tplquad(yint1, xmin, xmax, ymin, ymax, zmin, zmax)\n",
      "zc1, err1 = integrate.tplquad(zint1, xmin, xmax, ymin, ymax, zmin, zmax)\n",
      "Ix1, err1 = integrate.tplquad(Ixint1, xmin, xmax, ymin, ymax, zmin, zmax)\n",
      "Iy1, err1 = integrate.tplquad(Iyint1, xmin, xmax, ymin, ymax, zmin, zmax)\n",
      "Iz1, err1 = integrate.tplquad(Izint1, xmin, xmax, ymin, ymax, zmin, zmax)\n",
      "\n",
      "print \"Center of Mass : \",Ixcm, \",\", Iycm, \",\", Izcm\n",
      "print \"Moment of Inertia : \",Ix1, \",\", Iy1,\",\", Iz1"
     ],
     "language": "python",
     "metadata": {},
     "outputs": [
      {
       "output_type": "stream",
       "stream": "stdout",
       "text": [
        "Center of Mass :  0.00346666666667 , 0.00346666666667 , 0.000266666666667\n",
        "Moment of Inertia :  0.00346666666667 , 0.00346666666667 , 0.000266666666667\n"
       ]
      }
     ],
     "prompt_number": 107
    },
    {
     "cell_type": "markdown",
     "metadata": {},
     "source": [
      "(c) Finally, change the density function to something of your choosing (different from that used in parts (a) and (b)) and recompute M, r\u20d7 cm and Icm for that case."
     ]
    },
    {
     "cell_type": "code",
     "collapsed": false,
     "input": [
      "p2 = lambda z, y, x: x**2 + y**2 + z**2\n",
      "xint2 = lambda z, y, x: x * p2(x, y, z)/mass\n",
      "yint2 = lambda z, y, x: y* p2(x, y, z)/mass\n",
      "zint2 = lambda z, y, x: z* p2(x, y, z)/mass\n",
      "Ixint2 = lambda z, y, x: ((y - ycm) ** 2 + (z - zcm) ** 2) * p2(x, y, z)\n",
      "Iyint2 = lambda z, y, x: ((x - xcm) ** 2 + (z - zcm) ** 2) * p2(x, y, z)\n",
      "Izint2 = lambda z, y, x: ((x - xcm) ** 2 + (y - ycm) ** 2) * p2(x, y, z)\n",
      "xmin = -0.1\n",
      "xmax = 0.1\n",
      "ymin = lambda x: -0.1\n",
      "ymax = lambda x: 0.1\n",
      "zmin = lambda x, y: -0.5\n",
      "zmax = lambda x, y: 0.5\n",
      "\n",
      "mass, err = integrate.tplquad(p2, xmin, xmax, ymin, ymax,zmin, zmax)\n",
      "xcm, err = integrate.tplquad(xint2, xmin, xmax, ymin, ymax, zmin, zmax)\n",
      "ycm, err = integrate.tplquad(yint2, xmin, xmax, ymin, ymax, zmin, zmax)\n",
      "zcm, err = integrate.tplquad(zint2, xmin, xmax, ymin, ymax, zmin, zmax)\n",
      "Ixx, err = integrate.tplquad(Ixint2, xmin, xmax, ymin, ymax, zmin, zmax)\n",
      "Iyy, err = integrate.tplquad(Iyint2, xmin, xmax, ymin, ymax, zmin, zmax)\n",
      "Izz, err = integrate.tplquad(Izint2, xmin, xmax, ymin, ymax, zmin, zmax)\n",
      "\n",
      "print \"mass: \", mass\n",
      "print \"Center of mass: \", xcm, \",\", ycm, \",\", zcm\n",
      "print \"Moment of inertia: \", Ixx, \",\", Iyy, \",\", Izz"
     ],
     "language": "python",
     "metadata": {},
     "outputs": [
      {
       "output_type": "stream",
       "stream": "stdout",
       "text": [
        "mass:  0.0036\n",
        "Center of mass:  0.0 , 0.0 , 0.0\n",
        "Moment of inertia:  0.000534577777778 , 0.000534577777778 , 2.47111111111e-05\n"
       ]
      }
     ],
     "prompt_number": 131
    }
   ],
   "metadata": {}
  }
 ]
}