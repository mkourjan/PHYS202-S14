{
 "metadata": {
  "name": "",
  "signature": "sha256:56cc7df8e629fc7f68d55eaf5e9abdd5207c6778d24203229f0531a030f17754"
 },
 "nbformat": 3,
 "nbformat_minor": 0,
 "worksheets": [
  {
   "cells": [
    {
     "cell_type": "heading",
     "level": 1,
     "metadata": {},
     "source": [
      "Project Euler 20"
     ]
    },
    {
     "cell_type": "markdown",
     "metadata": {},
     "source": [
      "n! means n \u00d7 (n \u2212 1) \u00d7 ... \u00d7 3 \u00d7 2 \u00d7 1\n",
      "\n",
      "For example, 10! = 10 \u00d7 9 \u00d7 ... \u00d7 3 \u00d7 2 \u00d7 1 = 3628800,\n",
      "and the sum of the digits in the number 10! is 3 + 6 + 2 + 8 + 8 + 0 + 0 = 27.\n",
      "\n",
      "Find the sum of the digits in the number 100!"
     ]
    },
    {
     "cell_type": "code",
     "collapsed": false,
     "input": [
      "import numpy as np\n",
      "import matplotlib.pyplot as plt\n",
      "%matplotlib inline\n",
      "import random"
     ],
     "language": "python",
     "metadata": {},
     "outputs": [],
     "prompt_number": 1
    },
    {
     "cell_type": "code",
     "collapsed": false,
     "input": [
      "'''Test case with the input being 10.  The factorial function takes a number input \n",
      "and returns the factorial.  The output is then converted into a string.  Finally,\n",
      "a loop is used to iterate through the string to sum up all of the individual numbers.'''\n",
      "\n",
      "def factorial(number):\n",
      "    \n",
      "    if number == 0:\n",
      "        x = 1\n",
      "    if number ==1:\n",
      "        x = 1\n",
      "    if number>1:\n",
      "        x = number * factorial(number - 1)\n",
      "    return x\n",
      "a = str(factorial(10))   \n",
      "b = sum(int(c) for c in a)\n",
      "    \n",
      "print b\n",
      "    \n",
      "    \n",
      "    \n",
      "    \n",
      "    \n",
      "    "
     ],
     "language": "python",
     "metadata": {},
     "outputs": [
      {
       "output_type": "stream",
       "stream": "stdout",
       "text": [
        "27\n"
       ]
      }
     ],
     "prompt_number": 15
    },
    {
     "cell_type": "code",
     "collapsed": false,
     "input": [
      "'''Actual case with the input being 100.  The factorial function takes a number input \n",
      "and returns the factorial.  The output is then converted into a string.  Finally,\n",
      "a loop is used to iterate through the string to sum up all of the individual numbers.'''\n",
      "\n",
      "def factorial(number):\n",
      "    \n",
      "    if number == 0:\n",
      "        x = 1\n",
      "    if number ==1:\n",
      "        x = 1\n",
      "    if number>1:\n",
      "        x = number * factorial(number - 1)\n",
      "    return x\n",
      "a = str(factorial(100))   \n",
      "b = sum(int(c) for c in a)\n",
      "    \n",
      "print b\n",
      "    "
     ],
     "language": "python",
     "metadata": {},
     "outputs": [
      {
       "output_type": "stream",
       "stream": "stdout",
       "text": [
        "648\n"
       ]
      }
     ],
     "prompt_number": 16
    },
    {
     "cell_type": "code",
     "collapsed": false,
     "input": [],
     "language": "python",
     "metadata": {},
     "outputs": []
    }
   ],
   "metadata": {}
  }
 ]
}