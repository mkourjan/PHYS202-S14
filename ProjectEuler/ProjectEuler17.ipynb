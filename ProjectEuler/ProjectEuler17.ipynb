{
 "metadata": {
  "name": "",
  "signature": "sha256:7fd5d5a3d31c6f4374acf640d9b09eb2e54275ad9b6324854bed676c1e2c04ac"
 },
 "nbformat": 3,
 "nbformat_minor": 0,
 "worksheets": [
  {
   "cells": [
    {
     "cell_type": "heading",
     "level": 1,
     "metadata": {},
     "source": [
      "Project Euler 17"
     ]
    },
    {
     "cell_type": "markdown",
     "metadata": {},
     "source": [
      "If the numbers 1 to 5 are written out in words: one, two, three, four, five, then there are 3 + 3 + 5 + 4 + 4 = 19 letters used in total.\n",
      "\n",
      "If all the numbers from 1 to 1000 (one thousand) inclusive were written out in words, how many letters would be used?\n",
      "\n",
      "\n",
      "NOTE: Do not count spaces or hyphens. For example, 342 (three hundred and forty-two) contains 23 letters and 115 (one hundred and fifteen) contains 20 letters. The use of \"and\" when writing out numbers is in compliance with British usage."
     ]
    },
    {
     "cell_type": "code",
     "collapsed": false,
     "input": [
      "Ones_Teens = [0,\n",
      "              3,\n",
      "              3,\n",
      "              5,\n",
      "              4,\n",
      "              4,\n",
      "              3,\n",
      "              5,\n",
      "              5,\n",
      "              4,\n",
      "              3,\n",
      "              6,\n",
      "              6,\n",
      "              8,\n",
      "              8,\n",
      "              7,\n",
      "              7,\n",
      "              9,\n",
      "              8,\n",
      "              8]\n",
      "Tens = [0,\n",
      "        3,\n",
      "        6,\n",
      "        6,\n",
      "        5,\n",
      "        5,\n",
      "        5,\n",
      "        7,\n",
      "        6,\n",
      "        6]\n",
      "Hundreds = 7\n",
      "Thousand = 8\n",
      " \n",
      "count = 0\n",
      "\n",
      "for i in range(1,1000):\n",
      "    \n",
      "    On = i % 10 \n",
      "    T = ((i % 100) - On) / 10 \n",
      "    H = ((i % 1000) - (T * 10) - On) / 100 \n",
      "    \n",
      "    if H != 0:\n",
      "        count += Ones_Teens[H] + Hundreds \n",
      "        if T != 0 or On != 0: count += 3 \n",
      "    if T == 0 or T == 1: count += Ones_Teens[T * 10 + On]\n",
      "    else: count += Tens[T] + Ones_Teens[On]  \n",
      "        \n",
      "count += Ones_Teens[1] + Thousand\n",
      " \n",
      "print count"
     ],
     "language": "python",
     "metadata": {},
     "outputs": [
      {
       "output_type": "stream",
       "stream": "stdout",
       "text": [
        "21124\n"
       ]
      }
     ],
     "prompt_number": 54
    },
    {
     "cell_type": "code",
     "collapsed": false,
     "input": [
      "Ones_Teens = [0,\n",
      "              3,\n",
      "              3,\n",
      "              5,\n",
      "              4,\n",
      "              4,\n",
      "              3,\n",
      "              5,\n",
      "              5,\n",
      "              4,\n",
      "              3,\n",
      "              6,\n",
      "              6,\n",
      "              8,\n",
      "              8,\n",
      "              7,\n",
      "              7,\n",
      "              9,\n",
      "              8,\n",
      "              8]\n",
      "Tens = [0,\n",
      "        3,\n",
      "        6,\n",
      "        6,\n",
      "        5,\n",
      "        5,\n",
      "        5,\n",
      "        7,\n",
      "        6,\n",
      "        6]\n",
      "Hundreds = 7\n",
      "Thousand = 8\n",
      " \n",
      "count = 0\n",
      "\n",
      "for i in range(1,6):\n",
      "    \n",
      "    On = i % 10 \n",
      "    T = ((i % 100) - On) / 10 \n",
      "    H = ((i % 1000) - (T * 10) - On) / 100 \n",
      "    \n",
      "    if H != 0:\n",
      "        count += Ones_Teens[H] + Hundreds \n",
      "        if T != 0 or On != 0: count += 3 \n",
      "    if T == 0 or T == 1: count += Ones_Teens[T * 10 + On]\n",
      "    else: count += Tens[T] + Ones_Teens[On]  \n",
      "        \n",
      "\n",
      " \n",
      "print count"
     ],
     "language": "python",
     "metadata": {},
     "outputs": [
      {
       "output_type": "stream",
       "stream": "stdout",
       "text": [
        "19\n"
       ]
      }
     ],
     "prompt_number": 55
    },
    {
     "cell_type": "code",
     "collapsed": false,
     "input": [],
     "language": "python",
     "metadata": {},
     "outputs": [],
     "prompt_number": 53
    },
    {
     "cell_type": "code",
     "collapsed": false,
     "input": [],
     "language": "python",
     "metadata": {},
     "outputs": []
    }
   ],
   "metadata": {}
  }
 ]
}