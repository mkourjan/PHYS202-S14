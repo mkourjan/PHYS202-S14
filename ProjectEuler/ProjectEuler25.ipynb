{
 "metadata": {
  "name": "",
  "signature": "sha256:38f3f5123a0f4f82dee91783fe7ac4d65fa2bf9d1d1481dfcada723cd36df2a1"
 },
 "nbformat": 3,
 "nbformat_minor": 0,
 "worksheets": [
  {
   "cells": [
    {
     "cell_type": "heading",
     "level": 1,
     "metadata": {},
     "source": [
      "Project Euler 25"
     ]
    },
    {
     "cell_type": "markdown",
     "metadata": {},
     "source": [
      "The Fibonacci sequence is defined by the recurrence relation:\n",
      "\n",
      "Fn = Fn\u22121 + Fn\u22122, where F1 = 1 and F2 = 1.\n",
      "\n",
      "Hence the first 12 terms will be:\n",
      "\n",
      "F1 = 1\n",
      "F2 = 1\n",
      "F3 = 2\n",
      "F4 = 3\n",
      "F5 = 5\n",
      "F6 = 8\n",
      "F7 = 13\n",
      "F8 = 21\n",
      "F9 = 34\n",
      "F10 = 55\n",
      "F11 = 89\n",
      "F12 = 144\n",
      "\n",
      "The 12th term, F12, is the first term to contain three digits.\n",
      "\n",
      "What is the first term in the Fibonacci sequence to contain 1000 digits?"
     ]
    },
    {
     "cell_type": "code",
     "collapsed": false,
     "input": [
      "\"\"\" This code is completely functional, my computer just does not have enough \n",
      "computing ability to come up with a result for 1000 digits in a reasonable time. \"\"\" \n",
      "\n",
      "def F(n):\n",
      "    if n == 1:\n",
      "        return 1\n",
      "    if n == 2:\n",
      "        return 1\n",
      "    else:\n",
      "        return F(n - 1) + F(n - 2)\n",
      "n = 1   \n",
      "while len(str(F(n))) < 3:\n",
      "    n += 1\n",
      "print n"
     ],
     "language": "python",
     "metadata": {},
     "outputs": [
      {
       "output_type": "stream",
       "stream": "stdout",
       "text": [
        "12\n"
       ]
      }
     ],
     "prompt_number": 19
    },
    {
     "cell_type": "code",
     "collapsed": false,
     "input": [
      "\"\"\" This is my test case for the code that my computer can ACTUALLY run!\"\"\"\n",
      "\n",
      "a = 0\n",
      "b = 1\n",
      "count = 0\n",
      "while len(str(b)) != 3:\n",
      "    a, b = b, a + b\n",
      "    count += 1\n",
      "print count + 1"
     ],
     "language": "python",
     "metadata": {},
     "outputs": [
      {
       "output_type": "stream",
       "stream": "stdout",
       "text": [
        "12\n"
       ]
      }
     ],
     "prompt_number": 1
    },
    {
     "cell_type": "code",
     "collapsed": false,
     "input": [
      "\"\"\"My code!\"\"\"\n",
      "\n",
      "a = 0\n",
      "b = 1\n",
      "count = 0\n",
      "while len(str(b)) != 1000:\n",
      "    a, b = b, a + b\n",
      "    count += 1\n",
      "print count + 1"
     ],
     "language": "python",
     "metadata": {},
     "outputs": [
      {
       "output_type": "stream",
       "stream": "stdout",
       "text": [
        "4782\n"
       ]
      }
     ],
     "prompt_number": 3
    },
    {
     "cell_type": "code",
     "collapsed": false,
     "input": [],
     "language": "python",
     "metadata": {},
     "outputs": []
    }
   ],
   "metadata": {}
  }
 ]
}