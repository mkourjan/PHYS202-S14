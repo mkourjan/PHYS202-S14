{
 "metadata": {
  "name": "",
  "signature": "sha256:64d0661714e402ed4ea3e9fa676f8e9abe2e2d93cb14bc351b12e35c176e39df"
 },
 "nbformat": 3,
 "nbformat_minor": 0,
 "worksheets": [
  {
   "cells": [
    {
     "cell_type": "heading",
     "level": 1,
     "metadata": {},
     "source": [
      "Project Euler 19"
     ]
    },
    {
     "cell_type": "code",
     "collapsed": false,
     "input": [
      "    "
     ],
     "language": "python",
     "metadata": {},
     "outputs": [],
     "prompt_number": 86
    },
    {
     "cell_type": "code",
     "collapsed": false,
     "input": [
      "year = range(1901, 2001)\n",
      "month = range(1,13)\n",
      "count = 0\n",
      "counter = 1\n",
      "for y in year:\n",
      "    for m in month:\n",
      "        \n",
      "        if (m == 1) or (m == 3) or (m == 5) or (m == 7) or (m == 8) or (m == 10) or (m == 12):\n",
      "            M = 31\n",
      "        if (m == 4) or (m == 6) or (m == 9) or (m == 11):\n",
      "            M = 30\n",
      "        if (m == 2) and (y % 4 == 0) and (y % 400 != 0):\n",
      "            M = 29\n",
      "        if (m == 2) and (y % 4 != 0):\n",
      "            M = 28\n",
      "        day = range(1, M + 1)\n",
      "       \n",
      "        for d in day:\n",
      "            \n",
      "            if count == 7:\n",
      "                count =0 \n",
      "                if d == 1:\n",
      "                    counter += 1\n",
      "            count += 1\n",
      "            \n",
      "                    \n",
      "print counter    "
     ],
     "language": "python",
     "metadata": {},
     "outputs": [
      {
       "output_type": "stream",
       "stream": "stdout",
       "text": [
        "171\n"
       ]
      }
     ],
     "prompt_number": 86
    },
    {
     "cell_type": "code",
     "collapsed": false,
     "input": [],
     "language": "python",
     "metadata": {},
     "outputs": [],
     "prompt_number": 86
    },
    {
     "cell_type": "code",
     "collapsed": false,
     "input": [],
     "language": "python",
     "metadata": {},
     "outputs": []
    }
   ],
   "metadata": {}
  }
 ]
}